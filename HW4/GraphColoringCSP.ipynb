{
  "cells": [
    {
      "cell_type": "markdown",
      "metadata": {
        "id": "JHpgL18aMtJD"
      },
      "source": [
        "# Graph coloring using CSP\n",
        "\n",
        "---\n",
        "#### Course: Aritificial Intelligence\n",
        "#### Professor: Dr. Mehdi Ghatee\n",
        "#### TA: Rouhollah Ahmadian\n",
        "#### Student: Ilya Khalafi\n",
        "#### Student ID: 9913039\n",
        "#### November 2022 "
      ]
    },
    {
      "cell_type": "markdown",
      "metadata": {
        "id": "r5j2JBUQ7NFc"
      },
      "source": [
        "# Table Of Contents\n",
        "- [Introduction](#intro)\n",
        "- [Approach](#approach)\n",
        "- [Dependencies](#dependency)\n",
        "- [Abstract Classes](#abstract-classes)\n",
        "    - [Problem Class](#problem)\n",
        "        - [Structure](#problem-structure)\n",
        "        - [Implementation](#problem-implementation)\n",
        "    - [Variable Class](#variable)\n",
        "        - [Structure](#variable-structure)\n",
        "        - [Implementation](#variable-implementation)\n",
        "- [Graph Class](#graph)\n",
        "    - [Properties](#graph-properties)\n",
        "    - [Methods](#graph-methods)\n",
        "    - [Implementation](#graph-implementation)\n",
        "- [Node Class](#node)\n",
        "    - [Properties](#node-properties)\n",
        "    - [Methods](#node-methods)\n",
        "    - [Implementation](#node-implementation)\n",
        "- [MinConflictSolver Class](#minconflictsolver)\n",
        "    - [Properties](#solver-properties)\n",
        "    - [Methods](#solver-methods)\n",
        "    - [Implementation](#solver-implementation)\n",
        "- [Launching the Code!](#code-launch)"
      ]
    },
    {
      "cell_type": "markdown",
      "metadata": {
        "id": "Q5cH52pP9o0X"
      },
      "source": [
        "<a name=\"intro\"></a>\n",
        "\n",
        "# Introduction 📚\n",
        "\n",
        "---\n",
        "\n",
        "In graph theory, graph coloring is a classic problem which tries to label elements of a graph with respect to some constraints. Simplest and most popular form of graph coloring is **Vertex coloring** which is a way of coloring vertices that no adjacent vertex have same color.\n",
        "\n",
        "There are many algorithms to solve graph vertex coloring problem, including search algorithm that we learned in the class but in this notebook we try to solve this problem as a **Constraint Satisfaction Problem (CSP)** and solve it using **Min Conflict Algorithm**.\n",
        "\n"
      ]
    },
    {
      "attachments": {},
      "cell_type": "markdown",
      "metadata": {
        "id": "8QKiA36kBKHj"
      },
      "source": [
        "<a name=\"approach\"></a>\n",
        "\n",
        "# Approach 🧭\n",
        "\n",
        "---\n",
        "We try to define our problem with standard structure of a CSP so we define 2 abstract classes, **Problem Class** and **Variable Class**. The we need to define **Graph Class** and **Node Class** and these 2 classes will keep structure of our graph. \n",
        "\n",
        "The key point of this notebook's approach is that **Graph Class** will inherit the **Problem Class** and **Node Class** will inherit the **Variable Class**. This structure is logical because Variables to CSP Problem are like Nodes to Graph and constraints of the CSP are like edges of this graph. Also this structure simplifies our code because we don't need to make a new Problem class from a Graph class and also constraints can be checked easily inside Node class by checking neighbors.\n",
        "\n",
        "So These will be the final classes:\n",
        "\n",
        "- **Problem** : <br />\n",
        "This class is an abstract class that represents a CSP Problem and we will pass its instance to an instance of MinConflictSolver to solve. This class will have 2 abstract methods that randomly assign value to variables and another one returns a conflicted variable of the problem, every child class of this class should implement these methods.\n",
        "\n",
        "- **Variable** : <br />\n",
        "This is an abstract class that represents a Variable of CSP. It has a property named value which in this case will be color of a node and it has 1 abstract method that counts amount of conflicts that current variable with current value has with other variables.\n",
        "\n",
        "- **Graph** : <br />\n",
        "This class inherits and implements methods of **Problem Class** and also keep structures of our graph including nodes that are instances of **Node Class**.\n",
        "\n",
        "- **Node** : <br />\n",
        "This class inherits and implements methods of **Variable Class** and also defines each node of the graph. We will keep constraint related methods in this class.\n",
        "\n",
        "- **MinConflictSolver** : <br />\n",
        "This class takes and keeps an instance of Problem class as its property and will have a key method named **step** which will make 1 step of min conflict algorithm on its target problem. Making solver to work step by step helps us to inspect algorithm's procedure for educational purpose. "
      ]
    },
    {
      "attachments": {},
      "cell_type": "markdown",
      "metadata": {
        "id": "BULTu-44Mnv7"
      },
      "source": [
        "<a name=\"dependency\"></a>\n",
        "\n",
        "# Dependencies\n",
        "\n",
        "---\n",
        "\n",
        "- **Networkx and Matplotlib** : <br />\n",
        "    We need these 2 libraries to plot and visualize our graph.\n",
        "\n",
        "- **abc**: <br />\n",
        "    This library is an standard library of python and it's used for making abstract methods and classes.\n",
        "\n",
        "- **numpy.random.choice** : <br />\n",
        "    We will use this method to pick random elements of a list."
      ]
    },
    {
      "cell_type": "code",
      "execution_count": null,
      "metadata": {
        "id": "GJZ71ddHsXhv"
      },
      "outputs": [],
      "source": [
        "# We need these 2 libraries to illustrate the graph\n",
        "import networkx as nx\n",
        "import matplotlib.pyplot as plt\n",
        "%matplotlib inline\n",
        "# We need abc library to define abstract classes and methods \n",
        "from abc import ABC, abstractmethod\n",
        "# We need choice method for random pick of variables\n",
        "from numpy.random import choice"
      ]
    },
    {
      "cell_type": "markdown",
      "metadata": {
        "id": "FAwr-9ZKPKn8"
      },
      "source": [
        "<a name=\"abstract-classes\"></a>\n",
        "\n",
        "#Abstract Classes 🔤\n",
        "\n",
        "---\n",
        "\n",
        "We will define **Problem** and **Variable** classes as abstract classes to build base of our project classes. We will use **abc** library properties to define abstract classes.\n",
        "\n"
      ]
    },
    {
      "attachments": {},
      "cell_type": "markdown",
      "metadata": {
        "id": "QzEvOtEaRtxA"
      },
      "source": [
        "<a name=\"problem\"></a>\n",
        "\n",
        "### Problem Class ❓\n",
        "\n",
        "---\n",
        "\n",
        "This is an abstract class and it won't be possible to make instances of this class directly but children of this class will implement asbtract methods of this class and each children will represent a special CSP problem.\n"
      ]
    },
    {
      "attachments": {},
      "cell_type": "markdown",
      "metadata": {
        "id": "DV0V-stOQPAd"
      },
      "source": [
        "<a name=\"problem-structure\"></a>\n",
        "\n",
        "#### Structure \n",
        "\n",
        "This class contains only 1 property:\n",
        "\n",
        "- **variables** : <br />\n",
        "    This is a list of instances of Variable class and keeps variables of CSP.\n",
        "\n",
        "This class also contains 2 methods:\n",
        "\n",
        "- **variables** : <br />\n",
        "    This is a list of instances of Variable class and keeps variables of CSP.\n",
        "\n",
        "- **shuffle_assignment** : <br />\n",
        "    Assigns random value to each variable of the variables list from variable's domain\n",
        "\n",
        "- **get_conflict** : <br />\n",
        "    Returns a variable from variables list if it has at least 1 conflict, also returns None if no variable has any conflict which means that the problem is solved.\n",
        "\n",
        "\n"
      ]
    },
    {
      "attachments": {},
      "cell_type": "markdown",
      "metadata": {
        "id": "8KPvb8BtUZeY"
      },
      "source": [
        "<a name=\"problem-implementation\"></a>\n",
        "\n",
        "#### Implementation"
      ]
    },
    {
      "cell_type": "code",
      "execution_count": null,
      "metadata": {
        "id": "SazqcwnaUtWw"
      },
      "outputs": [],
      "source": [
        "class Problem():\n",
        "\t\n",
        "\tdef __init__(self, variables:list = []):\n",
        "\t\tself.variables = variables\n",
        " \n",
        "\t@abstractmethod\n",
        "\tdef shuffle_assignment(self):\n",
        "\t\t'''\n",
        "\t\tAssigns random values to variables\n",
        "\t\tfrom their domains\n",
        "\t\t'''\n",
        "\t\tpass\n",
        "\n",
        "\t@abstractmethod\n",
        "\tdef get_conflict(self):\n",
        "\t\t'''\n",
        "\t\treturns a random conflicted variable \n",
        "\t\treturns None if there is no conflicted variable\n",
        "\t\t'''\n",
        "\t\tpass"
      ]
    },
    {
      "attachments": {},
      "cell_type": "markdown",
      "metadata": {
        "id": "xv47YILuW8G2"
      },
      "source": [
        "<a name=\"variable\"></a>\n",
        "\n",
        "### Variable Class 📊\n",
        "\n",
        "---\n",
        "\n",
        "This is also an abstract class and its instances represent variables of a children of Problem class.\n"
      ]
    },
    {
      "attachments": {},
      "cell_type": "markdown",
      "metadata": {
        "id": "jvwut-DGYD7T"
      },
      "source": [
        "<a name=\"variable-structure\"></a>\n",
        "\n",
        "#### Structure \n",
        "\n",
        "This class contains 2 properties:\n",
        "\n",
        "- **domain** : <br />\n",
        "    This is a list of objects that can be assigned to the value of current variable. objects of this list can be of any type but in this problem we will pass string of colors' names as variables' domain.\n",
        "\n",
        "- **value** : <br />\n",
        "    This is the value of current variable in the problem assignment. At first we set it to None and problem instance sets random value when its shuffle_assignment method is called. Also instance of solver class will modify this value to find a solution for the problem.\n",
        "\n",
        "This class ony contains 1 method:\n",
        "\n",
        "- **count_conflicts** : <br />\n",
        "    Returns amount of conflicts that current value of variable has with related constraints of the variable.\n",
        "\n",
        "\n"
      ]
    },
    {
      "attachments": {},
      "cell_type": "markdown",
      "metadata": {
        "id": "isNN9W_GZNDp"
      },
      "source": [
        "<a name=\"variable-implementation\"></a>\n",
        "\n",
        "#### Implementation"
      ]
    },
    {
      "cell_type": "code",
      "execution_count": null,
      "metadata": {
        "id": "-y14H1cgZMoF"
      },
      "outputs": [],
      "source": [
        "class Variable(ABC):\n",
        "    \n",
        "\tdef __init__(self, domain:list = []):\n",
        "\t\tself.domain = domain\n",
        "\t\tself.value = None\n",
        "        \n",
        "\tdef count_conflicts(self):\n",
        "\t\t'''\n",
        "\t\treturns amount of constraints that have \n",
        "\t\tconflict this variable's value\n",
        "\t\t'''\n",
        "\t\tpass\n",
        "    "
      ]
    },
    {
      "attachments": {},
      "cell_type": "markdown",
      "metadata": {
        "id": "pet3X6244vru"
      },
      "source": [
        "<a name=\"graph\"></a>\n",
        "\n",
        "# Graph Class 🌐\n",
        "\n",
        "---\n",
        "This class is a children of Problem Class and implements its methods for graph coloring problem as a CSP. This class keeps instances of Node class which are nodes of the graph and variables of CSP.\n",
        "\n"
      ]
    },
    {
      "attachments": {},
      "cell_type": "markdown",
      "metadata": {
        "id": "vKhaUQ0_6_lW"
      },
      "source": [
        "<a name=\"graph-properties\"></a>\n",
        "\n",
        "#### Properties :\n",
        "\n",
        " - **nodes** : <br />\n",
        "    This is a list including instances of Node class that are nodes of the graph\n",
        "\n",
        " - **variables** : <br />\n",
        "    This property is inherited from Problem Class and we will set it equal to nodes property. Notice that Node Class inherits from Variable Class and every node has functionality of a variable of CSP. "
      ]
    },
    {
      "attachments": {},
      "cell_type": "markdown",
      "metadata": {
        "id": "LQAFdpsF7ZUS"
      },
      "source": [
        "<a name=\"graph-methods\"></a>\n",
        "\n",
        "#### Methods :\n",
        "\n",
        "- **\\_\\_init__** : <br />\n",
        "    This is constructor method of the class and assigns passed values to the class properties.\n",
        "\n",
        "- **random** : <br />\n",
        "    This method makes a random graph with given amount of nodes and adds each edge to the graph with a given probability.\n",
        "\n",
        "- **shuffle_assignment** : <br />\n",
        "    This method is inherited from Problem Class and assigns random values to each variable of the problem from its domain, in this case it assigns colors to each node from that node's domain.\n",
        "\n",
        "- **add_edge** : <br />\n",
        "    This method takes indices of two nodes from nodes property and adds an edge between these two nodes.\n",
        "\n",
        "- **get_conflict** : <br />\n",
        "    This method is inherited from Problem Class and returns a random conflicted variable(node), returns None if there is no conflicted variable\n",
        "\n",
        "- **visualize** : <br />\n",
        "    This method draw the plot of the graph using networkx and matplotlib libraries."
      ]
    },
    {
      "attachments": {},
      "cell_type": "markdown",
      "metadata": {
        "id": "qa8d33H0_Zfa"
      },
      "source": [
        "<a name=\"graph-implementation\"></a>\n",
        "\n",
        "#### Implementation : \n",
        "First we define the class and its constructor method *\\_\\_init__*.\n",
        "This will be base of our class and we implement and add other methods on top of it.\n"
      ]
    },
    {
      "cell_type": "code",
      "execution_count": null,
      "metadata": {
        "id": "ZE_8-Br4_ZCA"
      },
      "outputs": [],
      "source": [
        "class Graph(Problem):\n",
        "    \n",
        "\tdef __init__(self, nodes:list = []):\n",
        "\t\tself.nodes = nodes\n",
        "\t\tsuper().__init__(variables=self.nodes)"
      ]
    },
    {
      "cell_type": "markdown",
      "metadata": {
        "id": "uxknRS44AFiZ"
      },
      "source": [
        "Then we define **\"random\"** method which takes 3 arguments **num_nodes**, **prob** and **domain**. It makes a graph with num_nodes amount of nodes and adds each edge of the graph with probability of prob. Also sets domain of each node equal to domain argument."
      ]
    },
    {
      "cell_type": "code",
      "execution_count": null,
      "metadata": {
        "id": "5cTn52WYBJP7"
      },
      "outputs": [],
      "source": [
        "def random(num_nodes:int, prob:float = 0.5, domain:list = []):\n",
        "    '''\n",
        "    This method returns an instance of graph class\n",
        "    with random structure, arguments are:\n",
        "        nums_nodes = amount of the nodes in the graph\n",
        "        prob = probility for each edge to be present in the graph,\n",
        "                this arg will be used to control density of edges.\n",
        "                This arg should be in range [0, 1]\n",
        "        domain = domain of each node of the graph will be set to this arg\n",
        "    '''\n",
        "    g = Graph(nodes = [Node(domain=domain) for _ in range(num_nodes)])\n",
        "    for i in range(num_nodes):\n",
        "        for j in range(i+1, num_nodes):\n",
        "            if choice([0, 1], p=[1-prob, prob]):\n",
        "                g.add_edge(i, j)\n",
        "    return g\n",
        "\n",
        "# Adding \"random\" function to the Graph class\n",
        "Graph.random = random"
      ]
    },
    {
      "cell_type": "markdown",
      "metadata": {
        "id": "HCyB5z4dBisJ"
      },
      "source": [
        "Next method is **shuffle_assignment**. This method uses choice method that we imported from numpy.random in order to assign random values to each variable(node) of the problem(graph)."
      ]
    },
    {
      "cell_type": "code",
      "execution_count": null,
      "metadata": {
        "id": "lTCM7SG2Bjcy"
      },
      "outputs": [],
      "source": [
        "def shuffle_assignment(self):\n",
        "    '''\n",
        "    Assigns random values to variables\n",
        "    from their domains\n",
        "    '''\n",
        "    for var in self.variables:\n",
        "        var.value = choice(var.domain)\n",
        "\n",
        "# Adding \"shuffle_assingment\" function to the Graph class\n",
        "Graph.shuffle_assignment = shuffle_assignment"
      ]
    },
    {
      "cell_type": "markdown",
      "metadata": {
        "id": "xOag5BEpCjNC"
      },
      "source": [
        "Next method is **add_edge** which takes indices of two nodes in the nodes list of the graph instance and adds an edge between these nodes. This method uses **add_neighbor** method of the Node Class and **add_neighbor** method adds a new node to the list of nieghbors of the node and neighbors of the node will be kept in a set, so adding an edge multiple times will not make more than 1 edge between the nodes."
      ]
    },
    {
      "cell_type": "code",
      "execution_count": null,
      "metadata": {
        "id": "RdN2etUwCjau"
      },
      "outputs": [],
      "source": [
        "def add_edge(self, node1_index:int, node2_index:int):\n",
        "    '''\n",
        "    This method takes index of two nodes in its internal\n",
        "    nodes list and add an edge between  \n",
        "    Adding edge between 2 nodes of graph\n",
        "    '''\n",
        "    self.nodes[node1_index].add_neighbor(self.nodes[node2_index])\n",
        "    self.nodes[node2_index].add_neighbor(self.nodes[node1_index])\n",
        "\n",
        "# Adding \"add_edge\" function to the Graph class\n",
        "Graph.add_edge = add_edge"
      ]
    },
    {
      "cell_type": "markdown",
      "metadata": {
        "id": "9CTcdItQDylJ"
      },
      "source": [
        "Now we implement **get_conflict** method which is inherited from Problem Class. Here we use count_conflicts method of the Node Class. If a node has any conflict, then count_conflicts method will return a non zero integer and we add this node to conflicted nodes of the graph.\n",
        "\n",
        "Then we use **choice** method that we imported from numpy.random to return one of the conflicted nodes randomly. Also if no conflicted node was found and conflicted nodes list was empty, we return None which means that the problem is solved!"
      ]
    },
    {
      "cell_type": "code",
      "execution_count": null,
      "metadata": {
        "id": "Rd2gASbIDzDV"
      },
      "outputs": [],
      "source": [
        "def get_conflict(self):\n",
        "    '''\n",
        "    returns a random conflicted variable \n",
        "    returns None if there is no conflicted variable\n",
        "    '''\n",
        "    conflicted = []\n",
        "    for node in self.nodes:\n",
        "        if node.count_conflicts() != 0:\n",
        "            conflicted.append(node)\n",
        "\n",
        "    # Pick and return a random conflcited variable using choice method\n",
        "    # Notice that empty lists are considered as False in python\n",
        "    return choice(conflicted) if conflicted else None\n",
        "\n",
        "# Adding \"get_conflict\" function to the Graph class\n",
        "Graph.get_conflict = get_conflict"
      ]
    },
    {
      "cell_type": "markdown",
      "metadata": {
        "id": "lZBFFB2WFJTl"
      },
      "source": [
        "Next method is **visualize** which draws plot of the graph with colors assigned to each node using networkx and matplotlib library.\n",
        "\n",
        "Notice that each nodes color will equal to node.value and if node's value was None, method plots it with black color."
      ]
    },
    {
      "cell_type": "code",
      "execution_count": null,
      "metadata": {
        "id": "5ULOKuMkFJsL"
      },
      "outputs": [],
      "source": [
        "def visualize(self):\n",
        "    '''\n",
        "    Drawing picture of graph using networkx library.\n",
        "    To use networkx, we make an instance of networkx Graph class\n",
        "    and add nodes of our graph to this instance, the we add edges\n",
        "    of each node to this instance\n",
        "    '''\n",
        "    G = nx.Graph()\n",
        "    for node in self.nodes:\n",
        "        G.add_node(node)\n",
        "        for neighbor in node.neighbors:\n",
        "            G.add_edge(node, neighbor)\n",
        "    nx.draw(G, \n",
        "            node_color=[node.value if node.value != None else 'black' for node in list(G.nodes)],\n",
        "            labels={node:node.id for node in list(G.nodes)}\n",
        "            )\n",
        "    plt.show()\n",
        "\n",
        "# Adding \"visualize\" function to the Graph class\n",
        "Graph.visualize = visualize"
      ]
    },
    {
      "attachments": {},
      "cell_type": "markdown",
      "metadata": {
        "id": "60YmzY2TG6F6"
      },
      "source": [
        "<a name=\"node\"></a>\n",
        "\n",
        "# Node Class ⚛\n",
        "\n",
        "---\n",
        "This class is a children of Variable Class and implements its methods for nodes of graph coloring problem as variables of CSP. This class keeps instances of Node Class which are its neighbors and reports amount of conflicts it has with its neighbor nodes with respect to its value.\n",
        "\n"
      ]
    },
    {
      "attachments": {},
      "cell_type": "markdown",
      "metadata": {
        "id": "mGiYF0lf7W2v"
      },
      "source": [
        "<a name=\"node-properties\"></a>\n",
        "\n",
        "#### Properties :\n",
        "\n",
        " - **domain** : <br />\n",
        "    This property is inherited from Variable Class and represent values that can be assign to this variable(node) for the CSP.\n",
        "\n",
        " - **neighbors** : <br />\n",
        "    This is set that keeps instanes of Node Class and represents nodes that are adjacent to the current node.\n",
        "\n",
        " - **id** : <br />\n",
        "    This is an integer assigned to the node. We will use it to draw graph's plot using networkx and provides better representation of our nodes in the graph's plot."
      ]
    },
    {
      "attachments": {},
      "cell_type": "markdown",
      "metadata": {
        "id": "sqBGIPZeJUSi"
      },
      "source": [
        "<a name=\"node-methods\"></a>\n",
        "\n",
        "#### Methods :\n",
        "\n",
        "- **\\_\\_init__** : <br />\n",
        "    This is constructor method of the class and assigns passed values to the class properties.\n",
        "\n",
        "- **add_neighbor** : <br />\n",
        "    This method adds a new node to current node's neighbors.\n",
        "\n",
        "- **count_conflicts** : <br />\n",
        "    Counts and returns amount of conflicts that current node has with its neighbors with respect to its current value. "
      ]
    },
    {
      "attachments": {},
      "cell_type": "markdown",
      "metadata": {
        "id": "UjUyUcE8J90K"
      },
      "source": [
        "<a name=\"node-implementation\"></a>\n",
        "\n",
        "#### Implementation : \n",
        "First we define the class and its constructor method *\\_\\_init__*.\n",
        "This will be base of our class and we implement and add other methods on top of it.\n"
      ]
    },
    {
      "cell_type": "code",
      "execution_count": null,
      "metadata": {
        "id": "EZYg0j0OKNCZ"
      },
      "outputs": [],
      "source": [
        "class Node(Variable):\n",
        "\n",
        "\tlast_id = 0\n",
        "\n",
        "\tdef __init__(self, domain:list = [], neighbors:list = []):\n",
        "\t\tsuper().__init__(domain=domain)\n",
        "\t\tself.neighbors = set(neighbors)\n",
        "\t\t# node id is a number that we will use to help the\n",
        "\t\t# networkx differentiate graph's nodes in the graph's plot\n",
        "\t\tNode.last_id += 1\n",
        "\t\tself.id = Node.last_id"
      ]
    },
    {
      "cell_type": "markdown",
      "metadata": {
        "id": "NRewapZjMERC"
      },
      "source": [
        "Next methods is **\"add_neighbor\"** which takes a node as argument and add this node to the current node's neighbor. Since neighbors are kept in a set, adding same node multiple times will not add it more than once to the neighbors' set. "
      ]
    },
    {
      "cell_type": "code",
      "execution_count": null,
      "metadata": {
        "id": "--OVZdePMEY2"
      },
      "outputs": [],
      "source": [
        "def add_neighbor(self, neighbor):\n",
        "    '''\n",
        "    This method adds a new neighbor to the self node\n",
        "    '''\n",
        "    self.neighbors.add(neighbor)\n",
        "\n",
        "# Adding \"add_neighbor\" function to the Node class\n",
        "Node.add_neighbor = add_neighbor"
      ]
    },
    {
      "cell_type": "markdown",
      "metadata": {
        "id": "OZ8Uejq-Keo4"
      },
      "source": [
        "Now we implement **\"count_conflicts\"** method that is inherited from Variable Class. This methods was defined abstract to count amount of conflict that current variable has with other variables with respect to its value property. Here we implement it to count amount of its neighbors that have equal value(color) with current node."
      ]
    },
    {
      "cell_type": "code",
      "execution_count": null,
      "metadata": {
        "id": "yOdHdFvkOeeh"
      },
      "outputs": [],
      "source": [
        "def count_conflicts(self):\n",
        "    '''\n",
        "    This is an abstract method from Variable class that\n",
        "    ia defined to return amount of constraints that have \n",
        "    conflict this variable's value.\n",
        "    Here, it returns amount of neighbor nodes that\n",
        "    have conflict with self node\n",
        "    '''\n",
        "    conflicts = 0\n",
        "    for neighbor in self.neighbors:\n",
        "        if neighbor.value == self.value:\n",
        "            conflicts += 1\n",
        "    return conflicts if self.value else -1\n",
        "\n",
        "# Adding \"count_conflicts\" function to the Node class\n",
        "Node.count_conflicts = count_conflicts"
      ]
    },
    {
      "attachments": {},
      "cell_type": "markdown",
      "metadata": {
        "id": "5M600lY0QC4_"
      },
      "source": [
        "<a name=\"minconflictsolver\"></a>\n",
        "\n",
        "# MinConflictSolver Class 🧠\n",
        "\n",
        "---\n",
        "This class includes implementation of **\"Min Conflict Algorithm\"** Solver for CSPs from Russel-Norvig's AI Book. Also this class takes every step of this algorithm when its **\"step\"** method is called, so we can inspect its procedure and progress during the continous call to the \"step\" method to solve the target CSP.\n"
      ]
    },
    {
      "attachments": {},
      "cell_type": "markdown",
      "metadata": {
        "id": "dLdGy7Qkb0Gx"
      },
      "source": [
        "<a name=\"solver-properties\"></a>\n",
        "\n",
        "#### Properties :\n",
        "\n",
        " - **problem** : <br />\n",
        "    This is an instance of children of Problem Class which in this class is Graph class. this solver will call the problem to get random conflicted variable from the problem."
      ]
    },
    {
      "attachments": {},
      "cell_type": "markdown",
      "metadata": {
        "id": "zuyI6bu8b18n"
      },
      "source": [
        "<a name=\"solver-methods\"></a>\n",
        "\n",
        "#### Methods :\n",
        "\n",
        "- **\\_\\_init__** : <br />\n",
        "    This is constructor method of the class and assigns passed values to the class properties.\n",
        "\n",
        "- **step** : <br />\n",
        "    This class takes one step of the min conflict algorithm on its target problem. If it finds the solution in this step and problem is solved, returns True and otherwise return False after taking the step of algorithm."
      ]
    },
    {
      "attachments": {},
      "cell_type": "markdown",
      "metadata": {
        "id": "z3dnjOQmdlj-"
      },
      "source": [
        "<a name=\"solver-implementation\"></a>\n",
        "\n",
        "#### Implementation : \n",
        "First we define the class and its constructor method *\\_\\_init__*.\n",
        "This will be base of our class and we implement and add other methods on top of it.\n",
        "\n",
        "Also we call **\"shuffle_assignment\"** method of the problem to assign random values to the variables from their domains because min conflict algorithm start its procedure from a random assignment of values.\n"
      ]
    },
    {
      "cell_type": "code",
      "execution_count": null,
      "metadata": {
        "id": "fOR7omEBdmpa"
      },
      "outputs": [],
      "source": [
        "class MinConflictSolver():\n",
        "    \n",
        "    def __init__(self, problem):\n",
        "        self.problem = problem\n",
        "        self.problem.shuffle_assignment()"
      ]
    },
    {
      "cell_type": "markdown",
      "metadata": {
        "id": "vOK9oJ_YgQqU"
      },
      "source": [
        "Next method is the key method of this class which is **\"step\"**. It takes 1 step of the min conflict algorithm on each call and returns True if the answer was found, otherwise returns False.\n",
        "\n",
        "We can call this method continously to solve the problem using Min Conflict Algorithm but also between each call we can inspect graph's state for educational purpose!"
      ]
    },
    {
      "cell_type": "code",
      "execution_count": null,
      "metadata": {
        "id": "BOZpsKp_gQ8O"
      },
      "outputs": [],
      "source": [
        "def step(self):\n",
        "    '''\n",
        "    This method executes 1 step of min conflict alogrithm.\n",
        "    returns True if answer is found and False otherwise.\n",
        "    '''\n",
        "    var = self.problem.get_conflict()\n",
        "\n",
        "    # if there is no conflict, then we have found the answer\n",
        "    if not var:\n",
        "        return True\n",
        "\n",
        "    # setting max value of conflicts\n",
        "    min_conflict = len(self.problem.variables)\n",
        "\n",
        "    # setting first element of domain, in case that\n",
        "    # no better option was found\n",
        "    min_conflict_value = var.domain[0]\n",
        "\n",
        "    # finding value with minimum conflicts\n",
        "    # from variable's domain\n",
        "    for value in var.domain:\n",
        "        var.value = value\n",
        "        if var.count_conflicts() < min_conflict:\n",
        "            min_conflict = var.count_conflicts()\n",
        "            min_conflict_value = value\n",
        "\n",
        "    # setting value with minimum conflicts\n",
        "    # for the conflicted variable\n",
        "    var.value = min_conflict_value\n",
        "\n",
        "    # If we have not found the answer and there\n",
        "    # was no other conflict, then return True\n",
        "    if not self.problem.get_conflict():\n",
        "        return True\n",
        "    \n",
        "    # returning False because answer is not found yet\n",
        "    return False\n",
        "\n",
        "\n",
        "# Adding \"step\" function to the MinConflictSolver class\n",
        "MinConflictSolver.step = step"
      ]
    },
    {
      "attachments": {},
      "cell_type": "markdown",
      "metadata": {
        "id": "ONk_N5aYnzp1"
      },
      "source": [
        "<a name=\"code-launch\"></a>\n",
        "\n",
        "# Launching the Code! 🚀\n",
        "\n",
        "Now we use our implemented classes to make a random graph and solve graph coloring problem for this random graph!\n",
        "\n",
        "**Feel free to change the amount of nodes, probability of edges and domain(colors) of varables(nodes) to test the algorithm and plotted graph!😀**"
      ]
    },
    {
      "cell_type": "code",
      "execution_count": null,
      "metadata": {
        "colab": {
          "base_uri": "https://localhost:8080/",
          "height": 1000
        },
        "id": "P46umY9XocuF",
        "outputId": "8a07f7b4-49fa-46b2-82bd-40ee34d1916c"
      },
      "outputs": [
        {
          "name": "stdout",
          "output_type": "stream",
          "text": [
            "Iteration 1: 6 conflicts\n"
          ]
        },
        {
          "data": {
            "image/png": "[encoded data removed]",
            "text/plain": [
              "<Figure size 432x288 with 1 Axes>"
            ]
          },
          "metadata": {},
          "output_type": "display_data"
        },
        {
          "name": "stdout",
          "output_type": "stream",
          "text": [
            "Iteration 2: 4 conflicts\n"
          ]
        },
        {
          "data": {
            "image/png": "[encoded data removed]",
            "text/plain": [
              "<Figure size 432x288 with 1 Axes>"
            ]
          },
          "metadata": {},
          "output_type": "display_data"
        },
        {
          "name": "stdout",
          "output_type": "stream",
          "text": [
            "Iteration 3: 2 conflicts\n"
          ]
        },
        {
          "data": {
            "image/png": "[encoded data removed]",
            "text/plain": [
              "<Figure size 432x288 with 1 Axes>"
            ]
          },
          "metadata": {},
          "output_type": "display_data"
        },
        {
          "name": "stdout",
          "output_type": "stream",
          "text": [
            "Found solution in 4 steps\n"
          ]
        },
        {
          "data": {
            "image/png": "[encoded data removed]",
            "text/plain": [
              "<Figure size 432x288 with 1 Axes>"
            ]
          },
          "metadata": {},
          "output_type": "display_data"
        }
      ],
      "source": [
        "# Making a random graph with 10 nodes with edge probability of 1/3\n",
        "# and we try to color this graph with 4 colors\n",
        "G = Graph.random(10, prob=1/3, domain=['blue', 'green', 'red', 'yellow'])\n",
        "\n",
        "# We make an instance of MinConflictSolver and\n",
        "# pass our graph as a problem to this solver\n",
        "solver = MinConflictSolver(G)\n",
        "\n",
        "# cnt keeps amount of passed iterations\n",
        "# of the algorithm\n",
        "cnt = 1\n",
        "\n",
        "# We terminate solver if it iterates for more than\n",
        "# 1000 times or if it finds a solution\n",
        "while not solver.step() and cnt < 1000:\n",
        "\n",
        "    # printing graph's status after current iteration\n",
        "    conflicts_amo = sum([var.count_conflicts() for var in G.variables])\n",
        "    print(f'Iteration {str(cnt)}: {conflicts_amo} conflicts')\n",
        "    G.visualize()\n",
        "\n",
        "    # increasing iteration counter\n",
        "    cnt += 1\n",
        "\n",
        "# If cnt = 1000, it means we have terminated\n",
        "# iteration because solver has not found any solution\n",
        "if cnt == 1000:\n",
        "    print('No solution found')\n",
        "\n",
        "# Otherwise solver has found a solution and\n",
        "# we visualize the solution using \"visualize\" method\n",
        "else:\n",
        "    print(F'Found solution in {str(cnt)} steps')\n",
        "    G.visualize()"
      ]
    },
    {
      "cell_type": "markdown",
      "metadata": {
        "id": "7k9ks2JqunIj"
      },
      "source": [
        "Our Solver found a solution in 4 iterations!\n",
        "\n",
        "There is no surprise because Min Conflict Algorithm is listed as one of the fastest algorithms for graph coloring problem in the Russell-Norvig's Book!\n",
        "\n",
        "Also this notebook is available in this link:\n",
        "\n",
        "https://colab.research.google.com/drive/1Qb7XPRP-oXh0imu1gyXc6jAACwBeRc0O?usp=share_link"
      ]
    }
  ],
  "metadata": {
    "colab": {
      "collapsed_sections": [
        "qa8d33H0_Zfa"
      ],
      "provenance": []
    },
    "kernelspec": {
      "display_name": "Python 3",
      "name": "python3"
    },
    "language_info": {
      "name": "python"
    }
  },
  "nbformat": 4,
  "nbformat_minor": 0
}
