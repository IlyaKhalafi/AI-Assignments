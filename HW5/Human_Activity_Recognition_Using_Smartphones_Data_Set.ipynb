{
  "cells": [
    {
      "cell_type": "markdown",
      "metadata": {
        "id": "CXSkJwU8XGoz"
      },
      "source": [
        "# Human Activity Recognition Using Smartphones Data Set\n",
        "\n",
        "---\n",
        "#### Course: Aritificial Intelligence\n",
        "#### Professor: Dr. Mehdi Ghatee\n",
        "#### TA: Rouhollah Ahmadian\n",
        "#### Student: Ilya Khalafi\n",
        "#### Student ID: 9913039\n",
        "#### December 2022 "
      ]
    },
    {
      "cell_type": "markdown",
      "metadata": {
        "id": "7Ze8JWH3JQz3"
      },
      "source": [
        "# Table Of Contents\n",
        "- [Introduction](#intro)\n",
        "- [Dependencies](#dependency)\n",
        "- [Dataset](#dataset)\n",
        "    - [Downloading Content](#download)\n",
        "    - [Dataset Notes](#notes)\n",
        "    - [Importing Data](#import-data)\n",
        "    - [Importing Labels](#import-labels)\n",
        "- [Approach](#approach)\n",
        "- [Preprocessing](#preprocessing)\n",
        "    - [Anomality Checking](#anomality)\n",
        "    - [Dimensionality Reduction](#reduction)\n",
        "- [Preparing Comparator](#comparator)\n",
        "- [Models](#models)\n",
        "    - [Logistic Regression](#logistic-regressor)\n",
        "    - [Decision Tree](#decision-tree)\n",
        "    - [Random Forest](#random-forest)\n",
        "    - [Support Vector Machine](#svm)\n",
        "    - [KNeighbors Classifier](#kneighbors)\n",
        "- [Putting It Together!](#together)"
      ]
    },
    {
      "cell_type": "markdown",
      "source": [],
      "metadata": {
        "id": "Q1iSZ-Xx47OV"
      }
    },
    {
      "cell_type": "markdown",
      "source": [
        "<a name=\"intro\"></a>\n",
        "\n",
        "# Introduction 📚\n",
        "\n",
        "---\n",
        "\n",
        "In this article, we try to compare multiple machine learning methods on Human Activity Recognition dataset. This dataset is available \n",
        "[Here](https://archive.ics.uci.edu/ml/datasets/human+activity+recognition+using+smartphones).\n",
        "\n",
        "This dataset is gathered from 30 people. dataset description states:\n",
        "\n",
        "**The experiments have been carried out with a group of 30 volunteers within an age bracket of 19-48 years. Each person performed six activities (WALKING, WALKING_UPSTAIRS, WALKING_DOWNSTAIRS, SITTING, STANDING, LAYING) wearing a smartphone (Samsung Galaxy S II) on the waist. Using its embedded accelerometer and gyroscope, we captured 3-axial linear acceleration and 3-axial angular velocity at a constant rate of 50Hz. The experiments have been video-recorded to label the data manually. The obtained dataset has been randomly partitioned into two sets, where 70% of the volunteers was selected for generating the training data and 30% the test data.**\n",
        "\n",
        "We apply and compare 5 machine learning methods on this dataset:\n",
        " - Logistic Regression\n",
        " - Decission Tree Classifier\n",
        " - Random Forest Classifier\n",
        " - Support Vector Classifier\n",
        " - KNeighbors Classifier"
      ],
      "metadata": {
        "id": "MizWKylYMOzN"
      }
    },
    {
      "cell_type": "markdown",
      "source": [
        "<a name=\"dependency\"></a>\n",
        "\n",
        "#Dependencies 🧰\n",
        "\n",
        "---\n",
        "\n",
        "We need the following libraries during this article:\n",
        "\n",
        "- **numpy** : <br />\n",
        "    numpy is a commonly used library for doing scientific computation. Unlike python default pointer structure, numpy saves variables inplace and continous on RAM and also provides sophisticated methods that use parallelism to make our computations much faster.\n",
        "\n",
        "- **pandas**: <br />\n",
        "    pandas is also a common tool of data scientists. It provides many methods for data manipulation.\n",
        "\n",
        "- **matplotlib** : <br />\n",
        "    We will use matplotlib to show our charts.\n",
        "\n",
        "- **seaborn** : <br />\n",
        "    seaborn is built on matplotlib and provides many chart templates for us so we don't need to draw and build every components of our charts with matplotlib.\n",
        "\n",
        "- **scikit-learn (sklearn)** : <br />\n",
        "    This library is a known data science library that has sophisticated implementation of many machine learning algorithms. We use it to make our model and compare their performance.\n",
        "\n",
        "- **scikit-optimize (skopt)** : <br />\n",
        "    This library is built on scikit-learn and it is used for hyper parameters tuning."
      ],
      "metadata": {
        "id": "WpV3_KW-OKeA"
      }
    },
    {
      "cell_type": "code",
      "execution_count": null,
      "metadata": {
        "id": "JhL2HcqsW_2R"
      },
      "outputs": [],
      "source": [
        "%%capture\n",
        "\n",
        "# Fundamental Data Analysis Tools\n",
        "import numpy as np\n",
        "import pandas as pd\n",
        "import matplotlib.pyplot as plt\n",
        "%matplotlib inline\n",
        "import seaborn as sns\n",
        "\n",
        "# Importing Common useful methods from scikit-learn\n",
        "from sklearn import metrics\n",
        "from sklearn.model_selection import StratifiedKFold, train_test_split, cross_val_score\n",
        "\n",
        "# Importing classes of the models that we want to compare\n",
        "# scikit-learn has sophisticated implementation of our methods\n",
        "from sklearn.linear_model import LogisticRegression\n",
        "from sklearn.tree import DecisionTreeClassifier\n",
        "from sklearn.ensemble import RandomForestClassifier\n",
        "from sklearn.svm import SVC\n",
        "from sklearn.neighbors import KNeighborsClassifier\n",
        "\n",
        "# We will use scikit-optimize (aka skopt) to\n",
        "# tune our models' hyper parameters\n",
        "!pip install scikit-optimize\n",
        "from skopt import gp_minimize\n",
        "from skopt.space import Real, Integer, Categorical\n",
        "from skopt.utils import use_named_args\n",
        "from skopt.plots import plot_convergence\n",
        "\n",
        "# We need this to supress skopt warning messages\n",
        "import warnings\n",
        "warnings.filterwarnings('ignore', category=UserWarning)"
      ]
    },
    {
      "cell_type": "markdown",
      "source": [
        "<a name=\"dataset\"></a>\n",
        "\n",
        "#Dataset ❓\n",
        "\n",
        "---\n",
        "\n",
        "Here we will download and import the dataset and also we take a deeper look into database description file to decide how to specify our approach in the next section."
      ],
      "metadata": {
        "id": "mIWwKeS6Pqbs"
      }
    },
    {
      "cell_type": "markdown",
      "source": [
        "<a name=\"download\"></a>\n",
        "\n",
        "####Downloading Content\n",
        "\n",
        "Fortunately colab lets us to use many linux shell commands including **wget** and **unzip**. We download the dataset using **wget** and then unzip the dataset file using **unzip** command.\n"
      ],
      "metadata": {
        "id": "DKS-apRLP7xB"
      }
    },
    {
      "cell_type": "code",
      "execution_count": null,
      "metadata": {
        "id": "_ITjSBf1jiws"
      },
      "outputs": [],
      "source": [
        "%%capture\n",
        "# Downlading dataset\n",
        "!wget 'https://archive.ics.uci.edu/ml/machine-learning-databases/00240/UCI%20HAR%20Dataset.zip'\n",
        "# Unziping the dataset zip\n",
        "!unzip 'UCI HAR Dataset.zip'\n",
        "%cd '/content/UCI HAR Dataset'"
      ]
    },
    {
      "cell_type": "markdown",
      "source": [
        "<a name=\"notes\"></a>\n",
        "\n",
        "####Dataset Notes\n",
        "\n",
        "Before importing dataset into our variables, it is good to take a look at dataset notes in the **README.txt** file of the database. Lines 54~60 of the database include useful notes about the dataset.\n",
        "\n"
      ],
      "metadata": {
        "id": "-ELhW6tRRh5t"
      }
    },
    {
      "cell_type": "code",
      "execution_count": null,
      "metadata": {
        "colab": {
          "base_uri": "https://localhost:8080/"
        },
        "id": "Ur0QCW37iyb_",
        "outputId": "150a5e07-8a75-4974-ed9c-3531ad945957"
      },
      "outputs": [
        {
          "output_type": "stream",
          "name": "stdout",
          "text": [
            "Notes: \n",
            "\n",
            "======\n",
            "\n",
            "- Features are normalized and bounded within [-1,1].\n",
            "\n",
            "- Each feature vector is a row on the text file.\n",
            "\n",
            "- The units used for the accelerations (total and body) are 'g's (gravity of earth -> 9.80665 m/seg2).\n",
            "\n",
            "- The gyroscope units are rad/seg.\n",
            "\n",
            "- A video of the experiment including an example of the 6 recorded activities with one of the participants can be seen in the following link: http://www.youtube.com/watch?v=XOEN9W05_4A\n",
            "\n"
          ]
        }
      ],
      "source": [
        "with open('README.txt', encoding='utf8', errors='ignore') as desc:\n",
        "    lines = desc.readlines()\n",
        "    for i, line in enumerate(lines):\n",
        "        if i in range(54, 61):\n",
        "            print(line)"
      ]
    },
    {
      "cell_type": "markdown",
      "source": [
        "Remeber these notes, we will use them to decide about our approach in the **Approach** section."
      ],
      "metadata": {
        "id": "NpjL3gasGidE"
      }
    },
    {
      "cell_type": "markdown",
      "source": [
        "<a name=\"import-data\"></a>\n",
        "\n",
        "####Importing Data\n",
        "\n",
        "Now we import dataset into our variable. please remember these variables:\n",
        "\n",
        " - **df_train** : Contains features of the training data\n",
        "\n",
        " - **df_test** : Contains features of the test data\n",
        "\n",
        " - **y_train** : Contains labels of the training data\n",
        "\n",
        " - **y_test** : Contains labels of the test data \n"
      ],
      "metadata": {
        "id": "B1KWPWFCR4_U"
      }
    },
    {
      "cell_type": "code",
      "execution_count": null,
      "metadata": {
        "id": "vWgmzqym6K6d"
      },
      "outputs": [],
      "source": [
        "df_train = pd.read_csv('train/X_train.txt', delim_whitespace=True, header=None)\n",
        "df_test = pd.read_csv('test/X_test.txt', delim_whitespace=True, header=None)\n",
        "\n",
        "y_train = np.array(pd.read_csv('train/y_train.txt', header=None)).ravel()\n",
        "y_test = np.array(pd.read_csv('test/y_test.txt', header=None)).ravel()"
      ]
    },
    {
      "cell_type": "markdown",
      "source": [
        "<a name=\"import-labels\"></a>\n",
        "\n",
        "####Importing Labels\n",
        "\n",
        "This class contains only 1 property:\n",
        "\n",
        "Dataset **README.txt** states that labels for each class exists in the **activity_labels.txt** file. We import this file and make dictionary from value of classes (1~6) to strings that contain label of each class:\n",
        "\n"
      ],
      "metadata": {
        "id": "hR70lTyaU3lb"
      }
    },
    {
      "cell_type": "code",
      "execution_count": null,
      "metadata": {
        "colab": {
          "base_uri": "https://localhost:8080/"
        },
        "id": "B1ZQiKNqSDeP",
        "outputId": "ee83e73d-eba7-40b7-b8e3-4727aaaab7c2"
      },
      "outputs": [
        {
          "output_type": "execute_result",
          "data": {
            "text/plain": [
              "{1: 'WALKING',\n",
              " 2: 'WALKING_UPSTAIRS',\n",
              " 3: 'WALKING_DOWNSTAIRS',\n",
              " 4: 'SITTING',\n",
              " 5: 'STANDING',\n",
              " 6: 'LAYING'}"
            ]
          },
          "metadata": {},
          "execution_count": 7
        }
      ],
      "source": [
        "labels = {}\n",
        "with open('/content/UCI HAR Dataset/activity_labels.txt') as file:\n",
        "    for line in file.readlines():\n",
        "        value, label = line.split()\n",
        "        labels[int(value)] = label\n",
        "\n",
        "labels"
      ]
    },
    {
      "cell_type": "markdown",
      "source": [
        "<a name=\"approach\"></a>\n",
        "\n",
        "#Approach 🧭\n",
        "\n",
        "---\n",
        "\n",
        "First line of dataset notes states that:\n",
        "> Features are normalized and bounded within [-1,1].\n",
        "\n",
        "so features are already normalized and there is no need for this step in our preprocessing section.\n",
        "\n",
        "Also second line states that:\n",
        "\n",
        "> Each feature vector is a row on the text file.\n",
        "\n",
        "Lets count how many features this dataset has?\n"
      ],
      "metadata": {
        "id": "bWdribxKWPUw"
      }
    },
    {
      "cell_type": "code",
      "source": [
        "len(df_train.columns)"
      ],
      "metadata": {
        "colab": {
          "base_uri": "https://localhost:8080/"
        },
        "id": "VcHT9R-73lNU",
        "outputId": "80abaa10-8210-44b4-d6c9-48971511d0ed"
      },
      "execution_count": null,
      "outputs": [
        {
          "output_type": "execute_result",
          "data": {
            "text/plain": [
              "561"
            ]
          },
          "metadata": {},
          "execution_count": 8
        }
      ]
    },
    {
      "cell_type": "markdown",
      "source": [
        "So this dataset has 561 features! This is huge and keep in mind that we want to apply multiple machine learning methods which will be time consuming. So probably it isn't a bad idea to apply dimensionality reduction methods like **PCA**. I know this increases probability of infomartion loss but keep in mind that **we want to compare machine learning methods, so even if information loss happens, It will happen for all of our model. We will later show that PCA can generate 67 features containing 95% of all features variance which helps us to significantly reduce amount of features.**\n",
        "\n",
        "Also we will allocate this freed time to tune our models' hyper parameters so they show almost their highest potential on the dataset.\n",
        "\n",
        "Also there is always a good idea to check skewness of classes and exstence of null and duplicate values in the dataset, so we will do that in the *Preprocessing** section as well.\n",
        "\n",
        "So briefly what components we need?\n",
        "\n",
        " - ✅**Anomality checking** : </br>\n",
        "    Checking existence of null and duplicate values and also checking skewness of classes.\n",
        "\n",
        " - ❌**Normalization** : </br>\n",
        "    We don't need this part because dataset is alread normalized.\n",
        "\n",
        " - ✅**PCA** : </br>\n",
        "    Reducing amount of features to speed up computation.\n",
        "\n",
        " - ✅**Setting Up Examiner** : </br>\n",
        "    We will need a central unique examiner method that tunes models' hyper parameters and show their performance with best hyper parameters. In this way we can compare our models without any significant discrimination.\n",
        "\n",
        " - ❌**Train-Cross Validation Split** : </br>\n",
        "    We will use K-Fold Validation method which is sophisticated way to avoid overfitting. For K-Fold Validation, we will use **cross_val_score** method from scikit-learn library. It splits and trains the model for given number of times, so we don't need to split a cross validation part from our training data."
      ],
      "metadata": {
        "id": "5xLQBL8N37Pz"
      }
    },
    {
      "cell_type": "markdown",
      "source": [
        "<a name=\"preprocessing\"></a>\n",
        "\n",
        "#Preprocessing 🧹\n",
        "\n",
        "---\n",
        "\n",
        "We will implement **Anomality Checking** and **Dimensionality Reduction** steps in this section."
      ],
      "metadata": {
        "id": "0b5lwU0MXRA4"
      }
    },
    {
      "cell_type": "markdown",
      "source": [
        "<a name=\"anomality\"></a>\n",
        "\n",
        "####Anomality Checking\n",
        "\n",
        "Duplicated records can be dangerous because if duplication happens a lot, it can cause our model to be trained on a single record more than others which makes it to have high variance and overfit around duplicated data.\n",
        "\n",
        "So firstly lets count duplicate records to handle:\n"
      ],
      "metadata": {
        "id": "gh3AlzpXnaFJ"
      }
    },
    {
      "cell_type": "code",
      "source": [
        "print(f'Total number of duplicates in training data: {(sum(df_train.duplicated()))}')\n",
        "print(f'Total number of duplicates in test data: {(sum(df_test.duplicated()))}')"
      ],
      "metadata": {
        "colab": {
          "base_uri": "https://localhost:8080/"
        },
        "id": "hn8tOxRACuAr",
        "outputId": "cbb8c78d-5d5b-4cf6-ec74-e7c7299ceec8"
      },
      "execution_count": null,
      "outputs": [
        {
          "output_type": "stream",
          "name": "stdout",
          "text": [
            "Total number of duplicates in training data: 0\n",
            "Total number of duplicates in test data: 0\n"
          ]
        }
      ]
    },
    {
      "cell_type": "markdown",
      "source": [
        "Awesome! we don't have any duplicated data, so we don't need to handle them.\n",
        "\n",
        "Next, lets count null values in dataset, null values can be seen as empty parts of our puzzle because our model can not gain complete information about the situation of the records that contain at least 1 null value. There multiple ways of handling null values but firstly lets count them in the dataset:"
      ],
      "metadata": {
        "id": "4fOLNly5Cxdc"
      }
    },
    {
      "cell_type": "code",
      "source": [
        "print(f'Total number of NaN/Null values in train data: {df_train.isnull().values.sum()}')\n",
        "print(f'Total number of NaN/Null values in test data: {df_test.isnull().values.sum()}')"
      ],
      "metadata": {
        "colab": {
          "base_uri": "https://localhost:8080/"
        },
        "id": "U3VZJrncENg9",
        "outputId": "4a2bf2f0-c6a8-45cd-ed6c-c53dd8700de7"
      },
      "execution_count": null,
      "outputs": [
        {
          "output_type": "stream",
          "name": "stdout",
          "text": [
            "Total number of NaN/Null values in train data: 0\n",
            "Total number of NaN/Null values in test data: 0\n"
          ]
        }
      ]
    },
    {
      "cell_type": "markdown",
      "source": [
        "Perfect! There is no NaN of Null value to get rid of them!\n",
        "\n",
        "Another important case in classification tasks is skewed classes, which means test cases that belong to a specific class be much more than other classes. This is bad because model learn to report all classes as members of the skewed class and in the way it can increase its accuracy and recall.\n",
        "\n",
        "To observe that if any of the classes is skewed, we plot a chart that shows amount of members of each class:"
      ],
      "metadata": {
        "id": "SQDF-Nr2E_Fh"
      }
    },
    {
      "cell_type": "code",
      "source": [
        "plt.title('No of Datapoints per Activity', fontsize=15)\n",
        "ax = sns.countplot(pd.Series(y_train).map(labels))\n",
        "plt.xticks(rotation=90)\n",
        "plt.show()"
      ],
      "metadata": {
        "colab": {
          "base_uri": "https://localhost:8080/",
          "height": 449
        },
        "id": "3qMRzVI7GCav",
        "outputId": "122539cf-5f6e-4e3d-df6d-147fd6346768"
      },
      "execution_count": null,
      "outputs": [
        {
          "output_type": "stream",
          "name": "stderr",
          "text": [
            "/usr/local/lib/python3.8/dist-packages/seaborn/_decorators.py:36: FutureWarning: Pass the following variable as a keyword arg: x. From version 0.12, the only valid positional argument will be `data`, and passing other arguments without an explicit keyword will result in an error or misinterpretation.\n",
            "  warnings.warn(\n"
          ]
        },
        {
          "output_type": "display_data",
          "data": {
            "text/plain": [
              "<Figure size 432x288 with 1 Axes>"
            ],
            "image/png": "[encoded data removed]"
          },
          "metadata": {
            "needs_background": "light"
          }
        }
      ]
    },
    {
      "cell_type": "markdown",
      "source": [
        "Our classes are almost balanced so we can ignore some imbalance, but we will measure our models' performance using **F1 score** function to make sure it works well."
      ],
      "metadata": {
        "id": "wEqd2nuGGBsj"
      }
    },
    {
      "cell_type": "markdown",
      "source": [
        "<a name=\"reduction\"></a>\n",
        "\n",
        "####Dimensionality Reduction\n",
        "\n",
        "**Principal Component Analysis (PCA)** is a dimensionality reduction method that finds new features with maximum possible fraction of original features' variance and these new features are linearly dependent on original features. It works by finding eigen vectors of the covariance matrix. Although using **PCA** can be a bad practice in production stage because maximum variance doesn't guarantee maximum information and it can increase probability of information loss.\n",
        "\n",
        "But for comparision purposes, PCA is not a bad idea, because even if it cause some information loss, stil data will be the same for all target models to be expermented.\n",
        "\n",
        "It is a common knowledge to keep about 90% ~ 99% of original variance in PCA procedure. here we will keep **95% of the original variance**, now lets apply PCA with 95% of the original variance:\n",
        "\n",
        "\n",
        "\n"
      ],
      "metadata": {
        "id": "os0_qhX1n1lo"
      }
    },
    {
      "cell_type": "code",
      "source": [
        "from sklearn.decomposition import PCA\n",
        "\n",
        "pca = PCA(n_components=0.95, random_state=42) \n",
        "pca = pca.fit(df_train)\n",
        "x_train_pca = pd.DataFrame(pca.transform(df_train))\n",
        "x_test_pca = pd.DataFrame(pca.transform(df_test))"
      ],
      "metadata": {
        "id": "lMqlYp1H1EqX"
      },
      "execution_count": null,
      "outputs": []
    },
    {
      "cell_type": "markdown",
      "source": [
        "Now lets see how many features PCA has generated for us:"
      ],
      "metadata": {
        "id": "smAX6a4cPuP1"
      }
    },
    {
      "cell_type": "code",
      "source": [
        "len(x_train_pca.columns)"
      ],
      "metadata": {
        "colab": {
          "base_uri": "https://localhost:8080/"
        },
        "id": "4TcLIfiiJ5xw",
        "outputId": "8c564125-e281-4bff-aafb-c689e03a5e07"
      },
      "execution_count": null,
      "outputs": [
        {
          "output_type": "execute_result",
          "data": {
            "text/plain": [
              "67"
            ]
          },
          "metadata": {},
          "execution_count": 10
        }
      ]
    },
    {
      "cell_type": "markdown",
      "source": [
        "Not bad! PCA found 67 new features that have 95% variance of the original features, it means that we lost 5% of our variance but got a dataset with 88% less features!"
      ],
      "metadata": {
        "id": "lGlkZSZLPyiR"
      }
    },
    {
      "cell_type": "markdown",
      "source": [
        "<a name=\"comparator\"></a>\n",
        "\n",
        "#Preparing Comparator 🔍\n",
        "\n",
        "---\n",
        "\n",
        "Here we implement a central unique comparator method which takes model object, its name and space of hyper parameter and also full dataset and does 3 things:\n",
        " - Tuning model's hyper parameters combined with k-fold validation\n",
        " - Plotting chart of hyper parameters convergence\n",
        " - Training the model using best hyper parameters\n",
        " - Reporting model's confusion matrix on test set\n",
        " - Returning model's score on train and test set"
      ],
      "metadata": {
        "id": "XOW_XC4XI6AS"
      }
    },
    {
      "cell_type": "code",
      "execution_count": null,
      "metadata": {
        "id": "rZf7O-7hFHSf"
      },
      "outputs": [],
      "source": [
        "def examine_model(model, model_name, space, x_train, y_train, test_data, report):\n",
        "    \"\"\"  \n",
        "    model: object of the model to test\n",
        "\n",
        "    model_name: name of method, this will be displayed in the report\n",
        "\n",
        "    space: a list of skopt objects that represent space of possible \n",
        "            parameters for model's variables.\n",
        "\n",
        "    x_train: features of the training set\n",
        "\n",
        "    y_train: labels of the training set to predict\n",
        "\n",
        "    test_data: (x_test, y_test) tupple for testing final score.\n",
        "\n",
        "    report: a dictionary containing all models score values\n",
        "    \n",
        "    return: inputed report dictionary but current model's score is appended\n",
        "    \"\"\"\n",
        "    \n",
        "    # This is the loss function that will be passed to skopt algorithm\n",
        "    # to maximize hyper parameters score \n",
        "    @use_named_args(space)\n",
        "    def objective(**params):\n",
        "        model.set_params(**params)\n",
        "\n",
        "        return -np.mean(cross_val_score(model, x_train, y_train, cv=5, n_jobs=-1,\n",
        "                                    scoring=\"neg_mean_absolute_error\"))\n",
        "\n",
        "    # Tuning the hyper parameters using bayesian optimizer from skopt\n",
        "    res_gp = gp_minimize(objective, space, n_calls=20, random_state=7)\n",
        "\n",
        "    # plotting the history of hyper parameters score\n",
        "    # during optimization\n",
        "    plot_convergence(res_gp)\n",
        "    plt.show()\n",
        "\n",
        "    # gp_minimize return a list of hyper parameters but sklearn classes\n",
        "    # have set_params methods which accept a dictionary, so here we \n",
        "    # convert hyper parameters final values from res_gp.x to dictu\n",
        "    params = {}\n",
        "    for i, var in enumerate(space):\n",
        "        params[var.name] = res_gp.x[i]\n",
        "\n",
        "    # Setting best hyper parameters found for the model\n",
        "    model.set_params(**params)\n",
        "\n",
        "    # Training the tunned model\n",
        "    model.fit(x_train, y_train)\n",
        "    \n",
        "    # In this part we calculate model's score on test data\n",
        "    # with multiple functions (accuracy, precision, recall, f1 score)\n",
        "    # Please notice that test data is not used for training nor tunning,\n",
        "    # so it is the best way to measure overfitting of the model\n",
        "    y_hat = model.predict(test_data[0])\n",
        "    cm = metrics.confusion_matrix(test_data[1], y_hat)\n",
        "    sns.heatmap(cm, annot=True)\n",
        "\n",
        "    acc = metrics.accuracy_score(test_data[1], y_hat)\n",
        "    recall = metrics.recall_score(test_data[1], y_hat, average='micro')\n",
        "    precision = metrics.precision_score(test_data[1], y_hat, average='micro')\n",
        "    f1_score = metrics.f1_score(test_data[1], y_hat, average='micro')\n",
        "\n",
        "    print(f\"Accuracy of '{model_name}' = {acc}\")\n",
        "    print(f\"Recall of '{model_name}' = {recall}\")\n",
        "    print(f\"Precision of '{model_name}' = {precision}\")\n",
        "    print(f\"F1 Score of '{model_name}' = {f1_score}\")\n",
        "\n",
        "    # inserting model's score values into report dictionary\n",
        "    report[model_name] = (acc, precision, recall, f1_score)\n",
        "    return report\n"
      ]
    },
    {
      "cell_type": "markdown",
      "source": [
        "Now our comparator method is ready to use!"
      ],
      "metadata": {
        "id": "TjVKWNRaXtwW"
      }
    },
    {
      "cell_type": "markdown",
      "source": [
        "<a name=\"models\"></a>\n",
        "\n",
        "#Models 🤖\n",
        "\n",
        "---\n",
        "\n",
        "We examine and compare performance of 5 models:\n",
        "\n",
        " - Logistic Regression\n",
        " - Decission Tree Classifier\n",
        " - Random Forest Classifier\n",
        " - Support Vector Machine Classifier\n",
        " - KNeighbors Classifier\n",
        "\n",
        " but before beginning to examine the models, we should define a dictionary to keep score of our models, we will use this dictionary for final conclusion:"
      ],
      "metadata": {
        "id": "8hL5xBCxo7pb"
      }
    },
    {
      "cell_type": "code",
      "source": [
        "report = {} # Keeps score values of our models"
      ],
      "metadata": {
        "id": "alZ7UyVzYM8o"
      },
      "execution_count": null,
      "outputs": []
    },
    {
      "cell_type": "markdown",
      "source": [
        "<a name=\"logistic-regressor\"></a>\n",
        "\n",
        "####Logistic Regression\n",
        "\n",
        "Logistic Regression method is made by applying sigmoid function on Linear Regression's output. It can be seen as a 1 layer neural network with sigmoid function as its activation function. Although it is not as intelligent as deep neural networks, but many data scientist begin their analysis by testing Logistic Regression and then they deepen their models!\n",
        "\n",
        "So now lets see how it performs on our dataset:\n",
        "\n"
      ],
      "metadata": {
        "id": "HYydUycHpExU"
      }
    },
    {
      "cell_type": "code",
      "source": [
        "space  = [Real(0.5, 3, name='C')]\n",
        "\n",
        "regressor = LogisticRegression()\n",
        "\n",
        "examine_model(regressor, 'Logistic Regression', space, x_train_pca, y_train, (x_test_pca, y_test), report)"
      ],
      "metadata": {
        "colab": {
          "base_uri": "https://localhost:8080/",
          "height": 914
        },
        "id": "465S4S36aExm",
        "outputId": "3b39eb10-0cc1-46a3-d238-21683a65ad8a"
      },
      "execution_count": null,
      "outputs": [
        {
          "output_type": "display_data",
          "data": {
            "text/plain": [
              "<Figure size 432x288 with 1 Axes>"
            ],
            "image/png": "[encoded data removed]"
          },
          "metadata": {
            "needs_background": "light"
          }
        },
        {
          "output_type": "stream",
          "name": "stdout",
          "text": [
            "Accuracy of 'Logistic Regression' = 0.9412962334577536\n",
            "Recall of 'Logistic Regression' = 0.9412962334577536\n",
            "Precision of 'Logistic Regression' = 0.9412962334577536\n",
            "F1 Score of 'Logistic Regression' = 0.9412962334577536\n"
          ]
        },
        {
          "output_type": "execute_result",
          "data": {
            "text/plain": [
              "{'Random Forest': (0.9063454360366474,\n",
              "  0.9063454360366474,\n",
              "  0.9063454360366474,\n",
              "  0.9063454360366474),\n",
              " 'SVC': (0.9419748897183576,\n",
              "  0.9419748897183576,\n",
              "  0.9419748897183576,\n",
              "  0.9419748897183576),\n",
              " 'KNeighbours': (0.9039701391245334,\n",
              "  0.9039701391245334,\n",
              "  0.9039701391245334,\n",
              "  0.9039701391245334),\n",
              " 'Logistic Regression': (0.9412962334577536,\n",
              "  0.9412962334577536,\n",
              "  0.9412962334577536,\n",
              "  0.9412962334577536)}"
            ]
          },
          "metadata": {},
          "execution_count": 16
        },
        {
          "output_type": "display_data",
          "data": {
            "text/plain": [
              "<Figure size 432x288 with 2 Axes>"
            ],
            "image/png": "[encoded data removed]"
          },
          "metadata": {
            "needs_background": "light"
          }
        }
      ]
    },
    {
      "cell_type": "markdown",
      "source": [
        "<a name=\"decision-tree\"></a>\n",
        "\n",
        "####Decision Tree\n",
        "\n",
        "Decision Tree is a classification method which divides cases into different branches of a tree and every branch represents a condition which sieves the cases of dataset. each leaf of the tree is made up of a unique set of conditions to sieve cases.\n",
        "\n",
        "Now lets see how it performs on our dataset:\n",
        "\n"
      ],
      "metadata": {
        "id": "rhdcerl4pVQx"
      }
    },
    {
      "cell_type": "code",
      "source": [
        "space  = [\n",
        "        Integer(5, 100, name='max_depth'),\n",
        "        Integer(2, 10, name='min_samples_split'),\n",
        "        Integer(2, 5, name='min_samples_leaf')\n",
        "        ]\n",
        "\n",
        "tree = DecisionTreeClassifier()\n",
        "\n",
        "examine_model(tree, 'Decision Tree', space, x_train_pca, y_train, (x_test_pca, y_test), report)"
      ],
      "metadata": {
        "colab": {
          "base_uri": "https://localhost:8080/",
          "height": 988
        },
        "id": "MoJIdibu1gQI",
        "outputId": "e054d7b0-4f2a-441f-c916-4d65e2622c26"
      },
      "execution_count": null,
      "outputs": [
        {
          "output_type": "display_data",
          "data": {
            "text/plain": [
              "<Figure size 432x288 with 1 Axes>"
            ],
            "image/png": "[encoded data removed]"
          },
          "metadata": {
            "needs_background": "light"
          }
        },
        {
          "output_type": "stream",
          "name": "stdout",
          "text": [
            "Accuracy of 'Decision Tree' = 0.8065829657278588\n",
            "Recall of 'Decision Tree' = 0.8065829657278588\n",
            "Precision of 'Decision Tree' = 0.8065829657278588\n",
            "F1 Score of 'Decision Tree' = 0.8065829657278588\n"
          ]
        },
        {
          "output_type": "execute_result",
          "data": {
            "text/plain": [
              "{'Random Forest': (0.9063454360366474,\n",
              "  0.9063454360366474,\n",
              "  0.9063454360366474,\n",
              "  0.9063454360366474),\n",
              " 'SVC': (0.9419748897183576,\n",
              "  0.9419748897183576,\n",
              "  0.9419748897183576,\n",
              "  0.9419748897183576),\n",
              " 'KNeighbours': (0.9039701391245334,\n",
              "  0.9039701391245334,\n",
              "  0.9039701391245334,\n",
              "  0.9039701391245334),\n",
              " 'Logistic Regression': (0.9412962334577536,\n",
              "  0.9412962334577536,\n",
              "  0.9412962334577536,\n",
              "  0.9412962334577536),\n",
              " 'Decision Tree': (0.8065829657278588,\n",
              "  0.8065829657278588,\n",
              "  0.8065829657278588,\n",
              "  0.8065829657278588)}"
            ]
          },
          "metadata": {},
          "execution_count": 17
        },
        {
          "output_type": "display_data",
          "data": {
            "text/plain": [
              "<Figure size 432x288 with 2 Axes>"
            ],
            "image/png": "[encoded data removed]"
          },
          "metadata": {
            "needs_background": "light"
          }
        }
      ]
    },
    {
      "cell_type": "markdown",
      "source": [
        "<a name=\"random-forest\"></a>\n",
        "\n",
        "####Random Forest\n",
        "\n",
        "Random Forest method is a kind of ensemble method. Ensemble methods make multiple instance of other methods and define final output as combination of these models. Random forest adds more randomness to the model while growing trees which increases the expected value of the model's score. This model is a very sophisticated competent for shallow neural networks and even before the ero of deep learning, many companies used this model in production level. For example Microsoft used Random Forest in its Kinect game console.\n",
        "\n",
        "Now lets see how it performs on our dataset:\n"
      ],
      "metadata": {
        "id": "yZ8bh6S8sesU"
      }
    },
    {
      "cell_type": "code",
      "source": [
        "space  = [\n",
        "        Integer(50, 500, name='n_estimators'),\n",
        "        Integer(2, 10, name='min_samples_split'),\n",
        "        Integer(2, 5, name='min_samples_leaf')\n",
        "        ]\n",
        "\n",
        "forest = RandomForestClassifier()\n",
        "\n",
        "examine_model(forest, 'Random Forest', space, x_train_pca, y_train, (x_test_pca, y_test), report)"
      ],
      "metadata": {
        "colab": {
          "base_uri": "https://localhost:8080/",
          "height": 693
        },
        "id": "xP7Z4SLYHH8M",
        "outputId": "fce20a14-4318-462a-e019-8ede3684e65c"
      },
      "execution_count": null,
      "outputs": [
        {
          "output_type": "display_data",
          "data": {
            "text/plain": [
              "<Figure size 432x288 with 1 Axes>"
            ],
            "image/png": "[encoded data removed]"
          },
          "metadata": {
            "needs_background": "light"
          }
        },
        {
          "output_type": "stream",
          "name": "stdout",
          "text": [
            "Accuracy of 'Random Forest' = 0.9063454360366474\n",
            "Recall of 'Random Forest' = 0.9063454360366474\n",
            "Precision of 'Random Forest' = 0.9063454360366474\n",
            "F1 Score of 'Random Forest' = 0.9063454360366474\n"
          ]
        },
        {
          "output_type": "execute_result",
          "data": {
            "text/plain": [
              "{'Random Forest': (0.9063454360366474,\n",
              "  0.9063454360366474,\n",
              "  0.9063454360366474,\n",
              "  0.9063454360366474)}"
            ]
          },
          "metadata": {},
          "execution_count": 13
        },
        {
          "output_type": "display_data",
          "data": {
            "text/plain": [
              "<Figure size 432x288 with 2 Axes>"
            ],
            "image/png": "[encoded data removed]"
          },
          "metadata": {
            "needs_background": "light"
          }
        }
      ]
    },
    {
      "cell_type": "markdown",
      "source": [
        "<a name=\"svm\"></a>\n",
        "\n",
        "####Support Vector Machine\n",
        "\n",
        "**Support Vector Machine (SVM)** is a popular discriminative machine learning algorithm which seeks to find not only best possible score of prediction on training set, but I also it tries to find the best bound between classes with maximizing the margin between the bound and members of each class. In fact support vectors are the vector from boundary of the class teritory to the nearest member of the class to this boundry.\n",
        "\n",
        "Anyway, lets see how this method performs on our dataset:\n"
      ],
      "metadata": {
        "id": "n2ErjJeCslOt"
      }
    },
    {
      "cell_type": "code",
      "execution_count": null,
      "metadata": {
        "colab": {
          "base_uri": "https://localhost:8080/",
          "height": 767
        },
        "id": "8QnuEfB5Hiur",
        "outputId": "173d2677-1af5-4c67-9a72-6c610ad298f8"
      },
      "outputs": [
        {
          "output_type": "display_data",
          "data": {
            "text/plain": [
              "<Figure size 432x288 with 1 Axes>"
            ],
            "image/png": "[encoded data removed]"
          },
          "metadata": {
            "needs_background": "light"
          }
        },
        {
          "output_type": "stream",
          "name": "stdout",
          "text": [
            "Accuracy of 'SVC' = 0.9419748897183576\n",
            "Recall of 'SVC' = 0.9419748897183576\n",
            "Precision of 'SVC' = 0.9419748897183576\n",
            "F1 Score of 'SVC' = 0.9419748897183576\n"
          ]
        },
        {
          "output_type": "execute_result",
          "data": {
            "text/plain": [
              "{'Random Forest': (0.9063454360366474,\n",
              "  0.9063454360366474,\n",
              "  0.9063454360366474,\n",
              "  0.9063454360366474),\n",
              " 'SVC': (0.9419748897183576,\n",
              "  0.9419748897183576,\n",
              "  0.9419748897183576,\n",
              "  0.9419748897183576)}"
            ]
          },
          "metadata": {},
          "execution_count": 14
        },
        {
          "output_type": "display_data",
          "data": {
            "text/plain": [
              "<Figure size 432x288 with 2 Axes>"
            ],
            "image/png": "[encoded data removed]"
          },
          "metadata": {
            "needs_background": "light"
          }
        }
      ],
      "source": [
        "space  = [Real(0.5, 2, name='C'),\n",
        "          Integer(1, 6, name='degree')]\n",
        "\n",
        "regressor = SVC()\n",
        "\n",
        "examine_model(regressor, 'SVC', space, x_train_pca, y_train, (x_test_pca, y_test), report)"
      ]
    },
    {
      "cell_type": "markdown",
      "source": [
        "<a name=\"kneighbors\"></a>\n",
        "\n",
        "####KNeighbors Classifier\n",
        "\n",
        "KNearest Neighbors (KNN) is an unsupervised machine learning algorithm which is used for clustering problems. It is an iterative methods which finally finds custom amount of cluster with minimum amount of aggregated distance between points of each cluster, in fact this method has potential to fall in a local minima but using it for multiple times can increase the probability of finding the global minima.\n",
        "\n",
        "Anyway, we can use KNN to cluster our training cases into k cluster which k is equal to number of classes in our classification problem, then in the test stage we check the cluster that our test case falls on so we report class of this cluster as class of our test case.\n",
        "\n",
        "Now lets see how it performs on our dataset:\n",
        "\n"
      ],
      "metadata": {
        "id": "7BCmPMoXstsk"
      }
    },
    {
      "cell_type": "code",
      "source": [
        "space  = [Integer(2, 30, name='n_neighbors')]\n",
        "\n",
        "kneighbors = KNeighborsClassifier()\n",
        "\n",
        "examine_model(kneighbors, 'KNeighbours', space, x_train_pca, y_train, (x_test_pca, y_test), report)"
      ],
      "metadata": {
        "colab": {
          "base_uri": "https://localhost:8080/",
          "height": 840
        },
        "id": "Htcw7eL0IFeG",
        "outputId": "d932ac26-5729-4e06-e368-6e07eb747c07"
      },
      "execution_count": null,
      "outputs": [
        {
          "output_type": "display_data",
          "data": {
            "text/plain": [
              "<Figure size 432x288 with 1 Axes>"
            ],
            "image/png": "[encoded data removed]"
          },
          "metadata": {
            "needs_background": "light"
          }
        },
        {
          "output_type": "stream",
          "name": "stdout",
          "text": [
            "Accuracy of 'KNeighbours' = 0.9039701391245334\n",
            "Recall of 'KNeighbours' = 0.9039701391245334\n",
            "Precision of 'KNeighbours' = 0.9039701391245334\n",
            "F1 Score of 'KNeighbours' = 0.9039701391245334\n"
          ]
        },
        {
          "output_type": "execute_result",
          "data": {
            "text/plain": [
              "{'Random Forest': (0.9063454360366474,\n",
              "  0.9063454360366474,\n",
              "  0.9063454360366474,\n",
              "  0.9063454360366474),\n",
              " 'SVC': (0.9419748897183576,\n",
              "  0.9419748897183576,\n",
              "  0.9419748897183576,\n",
              "  0.9419748897183576),\n",
              " 'KNeighbours': (0.9039701391245334,\n",
              "  0.9039701391245334,\n",
              "  0.9039701391245334,\n",
              "  0.9039701391245334)}"
            ]
          },
          "metadata": {},
          "execution_count": 15
        },
        {
          "output_type": "display_data",
          "data": {
            "text/plain": [
              "<Figure size 432x288 with 2 Axes>"
            ],
            "image/png": "[encoded data removed]"
          },
          "metadata": {
            "needs_background": "light"
          }
        }
      ]
    },
    {
      "cell_type": "markdown",
      "source": [
        "<a name=\"together\"></a>\n",
        "\n",
        "#Final Statistics 📊\n",
        "\n",
        "---\n",
        "\n",
        "No we will show scores of all models in a bar plot to visualize their comparision."
      ],
      "metadata": {
        "id": "wpno7ti1vydC"
      }
    },
    {
      "cell_type": "code",
      "source": [
        "comp_data = [\n",
        "            [key, scores[0]]\n",
        "            for key, scores in report.items()\n",
        "            ]\n",
        "\n",
        "comp_data = pd.DataFrame(comp_data, columns=['Model', 'F1 Score'])\n",
        "\n",
        "sns.barplot(data=comp_data, x='Model', y='F1 Score')\n",
        "plt.xticks(rotation=70)\n",
        "plt.tight_layout()"
      ],
      "metadata": {
        "colab": {
          "base_uri": "https://localhost:8080/",
          "height": 297
        },
        "id": "xxRWGlwNIz2y",
        "outputId": "56081ab6-cceb-4dc2-9841-73bb101b5b73"
      },
      "execution_count": null,
      "outputs": [
        {
          "output_type": "display_data",
          "data": {
            "text/plain": [
              "<Figure size 432x288 with 1 Axes>"
            ],
            "image/png": "[encoded data removed]"
          },
          "metadata": {
            "needs_background": "light"
          }
        }
      ]
    },
    {
      "cell_type": "markdown",
      "source": [
        "So in the end it seems that these models can perform equivalently well but SVC and Logistic Regression got a little more score. Also this is our models' score on test set which was not used during tunning nor training, so it represents pure performance of these models.\n"
      ],
      "metadata": {
        "id": "v649Lf4zcAXG"
      }
    }
  ],
  "metadata": {
    "colab": {
      "provenance": []
    },
    "kernelspec": {
      "display_name": "Python 3",
      "name": "python3"
    },
    "language_info": {
      "name": "python"
    }
  },
  "nbformat": 4,
  "nbformat_minor": 0
}