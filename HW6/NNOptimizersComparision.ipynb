{
  "nbformat": 4,
  "nbformat_minor": 0,
  "metadata": {
    "colab": {
      "provenance": []
    },
    "kernelspec": {
      "name": "python3",
      "display_name": "Python 3"
    },
    "language_info": {
      "name": "python"
    }
  },
  "cells": [
    {
      "cell_type": "markdown",
      "source": [
        "# Comparision Of Different Neural Networks' Optimizers\n",
        "\n",
        "---\n",
        "#### Course: Aritificial Intelligence\n",
        "#### Professor: Dr. Mehdi Ghatee\n",
        "#### TA: Rouhollah Ahmadian\n",
        "#### Student: Ilya Khalafi\n",
        "#### Student ID: 9913039\n",
        "#### December 2022 "
      ],
      "metadata": {
        "id": "NchqVoT3OL8f"
      }
    },
    {
      "cell_type": "markdown",
      "source": [
        "# Table Of Contents\n",
        "- [Introduction](#intro)\n",
        "- [Dependencies](#dependency)\n",
        "- [Dataset](#dataset)\n",
        "    - [Importing Data](#import-data)\n",
        "    - [Dataset Notes](#notes)\n",
        "- [Approach](#approach)\n",
        "- [Preprocessing](#preprocessing)\n",
        "    - [Encoding Labels](#encoding)\n",
        "    - [Data Split](#split)\n",
        "    - [Normalization](#normalization)\n",
        "- [Preparing Comparator](#comparator)\n",
        "    - [Model](#model)\n",
        "    - [Examination Method](#examination)\n",
        "- [Optimizers](#optimizers)\n",
        "    - [Gradient Descent](#gd)\n",
        "    - [Stochastic Gradient Descent](#sgd)\n",
        "    - [Batch Gradient Descent](#bgd)\n",
        "    - [RMSProp](#rmsprop)\n",
        "    - [Adam](#adam)\n",
        "- [Final Statistics](#together)"
      ],
      "metadata": {
        "id": "ZuZQ4wht7zlb"
      }
    },
    {
      "cell_type": "markdown",
      "source": [
        "<a name=\"intro\"></a>\n",
        "\n",
        "# Introduction 📚\n",
        "\n",
        "---\n",
        "\n",
        "**Iris dataset** is perhaps the best known dataset to be found in the\n",
        "pattern recognition literature and it was first used by Sir R.A. Fisher.  Fisher's paper is a classic in the field and is referenced frequently to this day.  (See Duda & Hart, for example.)  The\n",
        "data set contains 3 classes of 50 instances each, where each class refers to a\n",
        "type of iris plant.  One class is linearly separable from the other 2; the\n",
        "latter are NOT linearly separable from each other. we will import and use this dataset from sklearn library. You can read more about it\n",
        "[Here](https://scikit-learn.org/stable/modules/generated/sklearn.datasets.load_iris.html#sklearn.datasets.load_iris).\n",
        "It is slightly different from UCI Machine Learning Repository.\n",
        "\n",
        "In this article we will compare performance of 5 neural network optimizers on the Iris dataset. These optimizers are:\n",
        " - Gradient Descent\n",
        " - Stochastic Gradient Descent\n",
        " - Batch Gradient Descent\n",
        " - RMSprop\n",
        " - Adam"
      ],
      "metadata": {
        "id": "ZpkdYRqO5VEj"
      }
    },
    {
      "cell_type": "markdown",
      "source": [
        "<a name=\"dependency\"></a>\n",
        "\n",
        "#Dependencies 🧰\n",
        "\n",
        "---\n",
        "\n",
        "We need the following libraries during this article:\n",
        "\n",
        "- **numpy** : <br />\n",
        "    numpy is a commonly used library for doing scientific computation. Unlike python default pointer structure, numpy saves variables inplace and continous on RAM and also provides sophisticated methods that use parallelism to make our computations much faster.\n",
        "\n",
        "- **pandas**: <br />\n",
        "    pandas is also a common tool of data scientists. It provides many methods for data manipulation.\n",
        "\n",
        "- **matplotlib** : <br />\n",
        "    We will use matplotlib to show our charts.\n",
        "\n",
        "- **seaborn** : <br />\n",
        "    seaborn is built on matplotlib and provides many chart templates for us so we don't need to draw and build every components of our charts with matplotlib.\n",
        "\n",
        "- **scikit-learn (sklearn)** : <br />\n",
        "    This library is a known data science library and we will import iris dataset from it and also some metric methods as well.\n",
        "\n",
        "- **keras** : <br />\n",
        "    This library along pytorch is most known library for neural networks. It has implementation of many neural network layers, optimizers, activation functions and loss functions and lets us build many different and custom neural networks."
      ],
      "metadata": {
        "id": "vXR_nHyMBCVI"
      }
    },
    {
      "cell_type": "code",
      "source": [
        "%%capture\n",
        "\n",
        "# Fundamental Data Analysis Tools\n",
        "import numpy as np\n",
        "import pandas as pd\n",
        "import matplotlib.pyplot as plt\n",
        "%matplotlib inline\n",
        "import seaborn as sns\n",
        "\n",
        "# Importing Common useful classes and methods from scikit-learn\n",
        "from sklearn import metrics\n",
        "from sklearn.preprocessing import OneHotEncoder, Normalizer\n",
        "from sklearn.model_selection import train_test_split, cross_val_score\n",
        "\n",
        "# Importing iris loader method from sklearn\n",
        "from sklearn.datasets import load_iris\n",
        "\n",
        "# We will use keras to build our model and \n",
        "# compare different optimizers' performances\n",
        "from keras.models import Sequential\n",
        "from keras.layers import Dense\n",
        "from keras.callbacks import (\n",
        "    EarlyStopping, ReduceLROnPlateau\n",
        ")\n",
        "from keras.optimizers import (\n",
        "    SGD, RMSprop,\n",
        "    Adadelta, Adam\n",
        ")"
      ],
      "metadata": {
        "id": "sd9VGeCJBDXg"
      },
      "execution_count": null,
      "outputs": []
    },
    {
      "cell_type": "markdown",
      "source": [
        "<a name=\"dataset\"></a>\n",
        "\n",
        "#Dataset ❓\n",
        "\n",
        "---\n",
        "\n",
        "As mentioned above, we will use Iris dataset from sklearn library. Every dataset in sklearn is a **dictionary** that contains features, target, labels, dataset's description and etc."
      ],
      "metadata": {
        "id": "bhjZzto9BJuJ"
      }
    },
    {
      "cell_type": "markdown",
      "source": [
        "<a name=\"import-data\"></a>\n",
        "\n",
        "####Importing Data\n",
        "\n",
        "Here we load iris dataset from sklearn library.\n"
      ],
      "metadata": {
        "id": "lh6ugZwnBP2_"
      }
    },
    {
      "cell_type": "code",
      "source": [
        "iris = load_iris()\n",
        "\n",
        "# Every dataset in sklearn is a dictionary object\n",
        "# Lets observe keys of iris dictionary\n",
        "list(iris.keys())"
      ],
      "metadata": {
        "colab": {
          "base_uri": "https://localhost:8080/"
        },
        "id": "eStvgJIsd8sa",
        "outputId": "89f4a03d-c93c-432f-d7a3-3eef056555ac"
      },
      "execution_count": null,
      "outputs": [
        {
          "output_type": "execute_result",
          "data": {
            "text/plain": [
              "['data',\n",
              " 'target',\n",
              " 'frame',\n",
              " 'target_names',\n",
              " 'DESCR',\n",
              " 'feature_names',\n",
              " 'filename',\n",
              " 'data_module']"
            ]
          },
          "metadata": {},
          "execution_count": 2
        }
      ]
    },
    {
      "cell_type": "markdown",
      "source": [
        "Now we should convert **'data'** into a pandas DataFrame with column names from **'feature_names'**."
      ],
      "metadata": {
        "id": "STAMfzXvh0xq"
      }
    },
    {
      "cell_type": "code",
      "source": [
        "data = pd.DataFrame(iris['data'], columns = iris['feature_names'])\n",
        "\n",
        "# Lets take a look in the imported dataset\n",
        "data.head()"
      ],
      "metadata": {
        "id": "iC3X8Z2ciHYe",
        "colab": {
          "base_uri": "https://localhost:8080/",
          "height": 206
        },
        "outputId": "772225b5-7df2-40fb-f6d5-fb22beae0395"
      },
      "execution_count": null,
      "outputs": [
        {
          "output_type": "execute_result",
          "data": {
            "text/plain": [
              "   sepal length (cm)  sepal width (cm)  petal length (cm)  petal width (cm)\n",
              "0                5.1               3.5                1.4               0.2\n",
              "1                4.9               3.0                1.4               0.2\n",
              "2                4.7               3.2                1.3               0.2\n",
              "3                4.6               3.1                1.5               0.2\n",
              "4                5.0               3.6                1.4               0.2"
            ],
            "text/html": [
              "\n",
              "  <div id=\"df-7fe8d99c-6e61-421f-b35e-702de3ee0ade\">\n",
              "    <div class=\"colab-df-container\">\n",
              "      <div>\n",
              "<style scoped>\n",
              "    .dataframe tbody tr th:only-of-type {\n",
              "        vertical-align: middle;\n",
              "    }\n",
              "\n",
              "    .dataframe tbody tr th {\n",
              "        vertical-align: top;\n",
              "    }\n",
              "\n",
              "    .dataframe thead th {\n",
              "        text-align: right;\n",
              "    }\n",
              "</style>\n",
              "<table border=\"1\" class=\"dataframe\">\n",
              "  <thead>\n",
              "    <tr style=\"text-align: right;\">\n",
              "      <th></th>\n",
              "      <th>sepal length (cm)</th>\n",
              "      <th>sepal width (cm)</th>\n",
              "      <th>petal length (cm)</th>\n",
              "      <th>petal width (cm)</th>\n",
              "    </tr>\n",
              "  </thead>\n",
              "  <tbody>\n",
              "    <tr>\n",
              "      <th>0</th>\n",
              "      <td>5.1</td>\n",
              "      <td>3.5</td>\n",
              "      <td>1.4</td>\n",
              "      <td>0.2</td>\n",
              "    </tr>\n",
              "    <tr>\n",
              "      <th>1</th>\n",
              "      <td>4.9</td>\n",
              "      <td>3.0</td>\n",
              "      <td>1.4</td>\n",
              "      <td>0.2</td>\n",
              "    </tr>\n",
              "    <tr>\n",
              "      <th>2</th>\n",
              "      <td>4.7</td>\n",
              "      <td>3.2</td>\n",
              "      <td>1.3</td>\n",
              "      <td>0.2</td>\n",
              "    </tr>\n",
              "    <tr>\n",
              "      <th>3</th>\n",
              "      <td>4.6</td>\n",
              "      <td>3.1</td>\n",
              "      <td>1.5</td>\n",
              "      <td>0.2</td>\n",
              "    </tr>\n",
              "    <tr>\n",
              "      <th>4</th>\n",
              "      <td>5.0</td>\n",
              "      <td>3.6</td>\n",
              "      <td>1.4</td>\n",
              "      <td>0.2</td>\n",
              "    </tr>\n",
              "  </tbody>\n",
              "</table>\n",
              "</div>\n",
              "      <button class=\"colab-df-convert\" onclick=\"convertToInteractive('df-7fe8d99c-6e61-421f-b35e-702de3ee0ade')\"\n",
              "              title=\"Convert this dataframe to an interactive table.\"\n",
              "              style=\"display:none;\">\n",
              "        \n",
              "  <svg xmlns=\"http://www.w3.org/2000/svg\" height=\"24px\"viewBox=\"0 0 24 24\"\n",
              "       width=\"24px\">\n",
              "    <path d=\"M0 0h24v24H0V0z\" fill=\"none\"/>\n",
              "    <path d=\"M18.56 5.44l.94 2.06.94-2.06 2.06-.94-2.06-.94-.94-2.06-.94 2.06-2.06.94zm-11 1L8.5 8.5l.94-2.06 2.06-.94-2.06-.94L8.5 2.5l-.94 2.06-2.06.94zm10 10l.94 2.06.94-2.06 2.06-.94-2.06-.94-.94-2.06-.94 2.06-2.06.94z\"/><path d=\"M17.41 7.96l-1.37-1.37c-.4-.4-.92-.59-1.43-.59-.52 0-1.04.2-1.43.59L10.3 9.45l-7.72 7.72c-.78.78-.78 2.05 0 2.83L4 21.41c.39.39.9.59 1.41.59.51 0 1.02-.2 1.41-.59l7.78-7.78 2.81-2.81c.8-.78.8-2.07 0-2.86zM5.41 20L4 18.59l7.72-7.72 1.47 1.35L5.41 20z\"/>\n",
              "  </svg>\n",
              "      </button>\n",
              "      \n",
              "  <style>\n",
              "    .colab-df-container {\n",
              "      display:flex;\n",
              "      flex-wrap:wrap;\n",
              "      gap: 12px;\n",
              "    }\n",
              "\n",
              "    .colab-df-convert {\n",
              "      background-color: #E8F0FE;\n",
              "      border: none;\n",
              "      border-radius: 50%;\n",
              "      cursor: pointer;\n",
              "      display: none;\n",
              "      fill: #1967D2;\n",
              "      height: 32px;\n",
              "      padding: 0 0 0 0;\n",
              "      width: 32px;\n",
              "    }\n",
              "\n",
              "    .colab-df-convert:hover {\n",
              "      background-color: #E2EBFA;\n",
              "      box-shadow: 0px 1px 2px rgba(60, 64, 67, 0.3), 0px 1px 3px 1px rgba(60, 64, 67, 0.15);\n",
              "      fill: #174EA6;\n",
              "    }\n",
              "\n",
              "    [theme=dark] .colab-df-convert {\n",
              "      background-color: #3B4455;\n",
              "      fill: #D2E3FC;\n",
              "    }\n",
              "\n",
              "    [theme=dark] .colab-df-convert:hover {\n",
              "      background-color: #434B5C;\n",
              "      box-shadow: 0px 1px 3px 1px rgba(0, 0, 0, 0.15);\n",
              "      filter: drop-shadow(0px 1px 2px rgba(0, 0, 0, 0.3));\n",
              "      fill: #FFFFFF;\n",
              "    }\n",
              "  </style>\n",
              "\n",
              "      <script>\n",
              "        const buttonEl =\n",
              "          document.querySelector('#df-7fe8d99c-6e61-421f-b35e-702de3ee0ade button.colab-df-convert');\n",
              "        buttonEl.style.display =\n",
              "          google.colab.kernel.accessAllowed ? 'block' : 'none';\n",
              "\n",
              "        async function convertToInteractive(key) {\n",
              "          const element = document.querySelector('#df-7fe8d99c-6e61-421f-b35e-702de3ee0ade');\n",
              "          const dataTable =\n",
              "            await google.colab.kernel.invokeFunction('convertToInteractive',\n",
              "                                                     [key], {});\n",
              "          if (!dataTable) return;\n",
              "\n",
              "          const docLinkHtml = 'Like what you see? Visit the ' +\n",
              "            '<a target=\"_blank\" href=https://colab.research.google.com/notebooks/data_table.ipynb>data table notebook</a>'\n",
              "            + ' to learn more about interactive tables.';\n",
              "          element.innerHTML = '';\n",
              "          dataTable['output_type'] = 'display_data';\n",
              "          await google.colab.output.renderOutput(dataTable, element);\n",
              "          const docLink = document.createElement('div');\n",
              "          docLink.innerHTML = docLinkHtml;\n",
              "          element.appendChild(docLink);\n",
              "        }\n",
              "      </script>\n",
              "    </div>\n",
              "  </div>\n",
              "  "
            ]
          },
          "metadata": {},
          "execution_count": 3
        }
      ]
    },
    {
      "cell_type": "markdown",
      "source": [
        "Also we import class labels into a single column DataFrame named **\"target\"**. Class labels are accessible from **'target'** key of the iris dictionary."
      ],
      "metadata": {
        "id": "1e37V3CW31qb"
      }
    },
    {
      "cell_type": "code",
      "source": [
        "target = pd.DataFrame(iris['target'], columns=['class'])\n",
        "\n",
        "# Lets take a look in the imported dataset\n",
        "target.head()"
      ],
      "metadata": {
        "colab": {
          "base_uri": "https://localhost:8080/",
          "height": 206
        },
        "id": "zisHLavM34S6",
        "outputId": "a2175c84-2c8e-4b6e-b792-9537c294af58"
      },
      "execution_count": null,
      "outputs": [
        {
          "output_type": "execute_result",
          "data": {
            "text/plain": [
              "   class\n",
              "0      0\n",
              "1      0\n",
              "2      0\n",
              "3      0\n",
              "4      0"
            ],
            "text/html": [
              "\n",
              "  <div id=\"df-3d6b4fc8-3bfd-4d5e-9ee1-6be4cb3a201a\">\n",
              "    <div class=\"colab-df-container\">\n",
              "      <div>\n",
              "<style scoped>\n",
              "    .dataframe tbody tr th:only-of-type {\n",
              "        vertical-align: middle;\n",
              "    }\n",
              "\n",
              "    .dataframe tbody tr th {\n",
              "        vertical-align: top;\n",
              "    }\n",
              "\n",
              "    .dataframe thead th {\n",
              "        text-align: right;\n",
              "    }\n",
              "</style>\n",
              "<table border=\"1\" class=\"dataframe\">\n",
              "  <thead>\n",
              "    <tr style=\"text-align: right;\">\n",
              "      <th></th>\n",
              "      <th>class</th>\n",
              "    </tr>\n",
              "  </thead>\n",
              "  <tbody>\n",
              "    <tr>\n",
              "      <th>0</th>\n",
              "      <td>0</td>\n",
              "    </tr>\n",
              "    <tr>\n",
              "      <th>1</th>\n",
              "      <td>0</td>\n",
              "    </tr>\n",
              "    <tr>\n",
              "      <th>2</th>\n",
              "      <td>0</td>\n",
              "    </tr>\n",
              "    <tr>\n",
              "      <th>3</th>\n",
              "      <td>0</td>\n",
              "    </tr>\n",
              "    <tr>\n",
              "      <th>4</th>\n",
              "      <td>0</td>\n",
              "    </tr>\n",
              "  </tbody>\n",
              "</table>\n",
              "</div>\n",
              "      <button class=\"colab-df-convert\" onclick=\"convertToInteractive('df-3d6b4fc8-3bfd-4d5e-9ee1-6be4cb3a201a')\"\n",
              "              title=\"Convert this dataframe to an interactive table.\"\n",
              "              style=\"display:none;\">\n",
              "        \n",
              "  <svg xmlns=\"http://www.w3.org/2000/svg\" height=\"24px\"viewBox=\"0 0 24 24\"\n",
              "       width=\"24px\">\n",
              "    <path d=\"M0 0h24v24H0V0z\" fill=\"none\"/>\n",
              "    <path d=\"M18.56 5.44l.94 2.06.94-2.06 2.06-.94-2.06-.94-.94-2.06-.94 2.06-2.06.94zm-11 1L8.5 8.5l.94-2.06 2.06-.94-2.06-.94L8.5 2.5l-.94 2.06-2.06.94zm10 10l.94 2.06.94-2.06 2.06-.94-2.06-.94-.94-2.06-.94 2.06-2.06.94z\"/><path d=\"M17.41 7.96l-1.37-1.37c-.4-.4-.92-.59-1.43-.59-.52 0-1.04.2-1.43.59L10.3 9.45l-7.72 7.72c-.78.78-.78 2.05 0 2.83L4 21.41c.39.39.9.59 1.41.59.51 0 1.02-.2 1.41-.59l7.78-7.78 2.81-2.81c.8-.78.8-2.07 0-2.86zM5.41 20L4 18.59l7.72-7.72 1.47 1.35L5.41 20z\"/>\n",
              "  </svg>\n",
              "      </button>\n",
              "      \n",
              "  <style>\n",
              "    .colab-df-container {\n",
              "      display:flex;\n",
              "      flex-wrap:wrap;\n",
              "      gap: 12px;\n",
              "    }\n",
              "\n",
              "    .colab-df-convert {\n",
              "      background-color: #E8F0FE;\n",
              "      border: none;\n",
              "      border-radius: 50%;\n",
              "      cursor: pointer;\n",
              "      display: none;\n",
              "      fill: #1967D2;\n",
              "      height: 32px;\n",
              "      padding: 0 0 0 0;\n",
              "      width: 32px;\n",
              "    }\n",
              "\n",
              "    .colab-df-convert:hover {\n",
              "      background-color: #E2EBFA;\n",
              "      box-shadow: 0px 1px 2px rgba(60, 64, 67, 0.3), 0px 1px 3px 1px rgba(60, 64, 67, 0.15);\n",
              "      fill: #174EA6;\n",
              "    }\n",
              "\n",
              "    [theme=dark] .colab-df-convert {\n",
              "      background-color: #3B4455;\n",
              "      fill: #D2E3FC;\n",
              "    }\n",
              "\n",
              "    [theme=dark] .colab-df-convert:hover {\n",
              "      background-color: #434B5C;\n",
              "      box-shadow: 0px 1px 3px 1px rgba(0, 0, 0, 0.15);\n",
              "      filter: drop-shadow(0px 1px 2px rgba(0, 0, 0, 0.3));\n",
              "      fill: #FFFFFF;\n",
              "    }\n",
              "  </style>\n",
              "\n",
              "      <script>\n",
              "        const buttonEl =\n",
              "          document.querySelector('#df-3d6b4fc8-3bfd-4d5e-9ee1-6be4cb3a201a button.colab-df-convert');\n",
              "        buttonEl.style.display =\n",
              "          google.colab.kernel.accessAllowed ? 'block' : 'none';\n",
              "\n",
              "        async function convertToInteractive(key) {\n",
              "          const element = document.querySelector('#df-3d6b4fc8-3bfd-4d5e-9ee1-6be4cb3a201a');\n",
              "          const dataTable =\n",
              "            await google.colab.kernel.invokeFunction('convertToInteractive',\n",
              "                                                     [key], {});\n",
              "          if (!dataTable) return;\n",
              "\n",
              "          const docLinkHtml = 'Like what you see? Visit the ' +\n",
              "            '<a target=\"_blank\" href=https://colab.research.google.com/notebooks/data_table.ipynb>data table notebook</a>'\n",
              "            + ' to learn more about interactive tables.';\n",
              "          element.innerHTML = '';\n",
              "          dataTable['output_type'] = 'display_data';\n",
              "          await google.colab.output.renderOutput(dataTable, element);\n",
              "          const docLink = document.createElement('div');\n",
              "          docLink.innerHTML = docLinkHtml;\n",
              "          element.appendChild(docLink);\n",
              "        }\n",
              "      </script>\n",
              "    </div>\n",
              "  </div>\n",
              "  "
            ]
          },
          "metadata": {},
          "execution_count": 4
        }
      ]
    },
    {
      "cell_type": "markdown",
      "source": [
        "Next we extract label of each class from **'target_names'** of the iris dictionary."
      ],
      "metadata": {
        "id": "5wgiQjP42KBS"
      }
    },
    {
      "cell_type": "code",
      "source": [
        "list_of_labels = iris['target_names'].tolist()\n",
        "\n",
        "labels = {i:label for i, label in enumerate(list_of_labels)}\n",
        "\n",
        "print(labels)"
      ],
      "metadata": {
        "colab": {
          "base_uri": "https://localhost:8080/"
        },
        "id": "-rB9xoGV1hxu",
        "outputId": "7fc20146-8978-4e15-a19c-7d79d0abb411"
      },
      "execution_count": null,
      "outputs": [
        {
          "output_type": "stream",
          "name": "stdout",
          "text": [
            "{0: 'setosa', 1: 'versicolor', 2: 'virginica'}\n"
          ]
        }
      ]
    },
    {
      "cell_type": "markdown",
      "source": [
        "Perfect, our features and labels are ready to use!"
      ],
      "metadata": {
        "id": "QihliyFl3C-L"
      }
    },
    {
      "cell_type": "markdown",
      "source": [
        "<a name=\"notes\"></a>\n",
        "\n",
        "####Dataset Notes 📖\n",
        "\n",
        "Iris dictionary that we imported sklearn library, includes a key named **'DESCR'**.\n",
        "This key, points to a string which is the summary of the dataset statistics and its history. First 35 lines of this string include some useful details about the dataset.\n",
        "\n",
        "Before going to the next section, lets see these lines of the dataset's description:\n"
      ],
      "metadata": {
        "id": "-nXM0gSLBQD0"
      }
    },
    {
      "cell_type": "code",
      "source": [
        "# We just need first 35 lines of description\n",
        "notes_lines = iris['DESCR'].split('\\n')[:35]\n",
        "\n",
        "# Converting list of 35 lines into a single string\n",
        "notes = '\\n'.join(notes_lines)\n",
        "\n",
        "print(notes)"
      ],
      "metadata": {
        "colab": {
          "base_uri": "https://localhost:8080/"
        },
        "id": "isbgPR5Sj2O7",
        "outputId": "803853fc-a861-4a98-8fe0-63411660cf72"
      },
      "execution_count": null,
      "outputs": [
        {
          "output_type": "stream",
          "name": "stdout",
          "text": [
            ".. _iris_dataset:\n",
            "\n",
            "Iris plants dataset\n",
            "--------------------\n",
            "\n",
            "**Data Set Characteristics:**\n",
            "\n",
            "    :Number of Instances: 150 (50 in each of three classes)\n",
            "    :Number of Attributes: 4 numeric, predictive attributes and the class\n",
            "    :Attribute Information:\n",
            "        - sepal length in cm\n",
            "        - sepal width in cm\n",
            "        - petal length in cm\n",
            "        - petal width in cm\n",
            "        - class:\n",
            "                - Iris-Setosa\n",
            "                - Iris-Versicolour\n",
            "                - Iris-Virginica\n",
            "                \n",
            "    :Summary Statistics:\n",
            "\n",
            "    ============== ==== ==== ======= ===== ====================\n",
            "                    Min  Max   Mean    SD   Class Correlation\n",
            "    ============== ==== ==== ======= ===== ====================\n",
            "    sepal length:   4.3  7.9   5.84   0.83    0.7826\n",
            "    sepal width:    2.0  4.4   3.05   0.43   -0.4194\n",
            "    petal length:   1.0  6.9   3.76   1.76    0.9490  (high!)\n",
            "    petal width:    0.1  2.5   1.20   0.76    0.9565  (high!)\n",
            "    ============== ==== ==== ======= ===== ====================\n",
            "\n",
            "    :Missing Attribute Values: None\n",
            "    :Class Distribution: 33.3% for each of 3 classes.\n",
            "    :Creator: R.A. Fisher\n",
            "    :Donor: Michael Marshall (MARSHALL%PLU@io.arc.nasa.gov)\n",
            "    :Date: July, 1988\n"
          ]
        }
      ]
    },
    {
      "cell_type": "markdown",
      "source": [
        "<a name=\"approach\"></a>\n",
        "\n",
        "#Approach 🧭\n",
        "\n",
        "---\n",
        "\n",
        "Sixth line of the dataset description states that:\n",
        "> Number of Instances: 150 (50 in each of three classes)\n",
        "\n",
        "so we only have 150 cases to use and we must be careful about number of test cases and also it is a good idea to use keras callbacks to avoid overfitting and also reducing learning rate in the training process.\n",
        "\n",
        "Also lines 29 & 30 of the dataset mentions:\n",
        "\n",
        "> Missing Attribute Values: None\n",
        "\n",
        "> Class Distribution: 33.3% for each of 3 classes.\n",
        "\n",
        "So there is no NaN value nor skewed classes in the dataset and we can skip checking anomalities unliked the previous homework (Report5).\n",
        "\n",
        "Notice that in the statistics part of the description, we can see that the features are not normalized and although their scales are not that much different, but it is better to normalized the features.\n",
        "\n",
        "Also we must encode the class column of the **data** dataframe, we will use one hot encoder from sklearn for this purpose.\n",
        "\n",
        "So briefly what components we need?\n",
        "\n",
        " - ❌**Anomality checking** : </br>\n",
        "    We saw in the description, that there is no NaN value nor skewed classes in the dataset so we don't need to check it again.\n",
        "\n",
        " - ✅**Normalization** : </br>\n",
        "    From the dataset statistics which we saw in its descripition, features are not normalized and it is a good idea to normalize them.\n",
        "\n",
        " - ✅**Encoding Labels** : </br>\n",
        "    in the **class** column of the data variable we have put string label of each class, we should one hot encode these labels to add new columns, one columns for each class.\n",
        "\n",
        " - ❌**Dimensionality Reduction** : </br>\n",
        "    Dataset has total of 4 features and 150 records so it is a small dataset and we don't need dimensionality reduction.\n",
        "\n",
        " - ✅**Train-Test Split** : </br>\n",
        "    We will need a test set to check our model's final score and also to check high bias or variance. We will take a small portion of our dataset for testing.\n",
        "\n",
        " - ✅**Setting Up Examiner** : </br>\n",
        "    We will need a central unique examiner method to optimize our model using a given optimizer and display results and charts about the process of optimization.\n"
      ],
      "metadata": {
        "id": "4yNOEHDjBalk"
      }
    },
    {
      "cell_type": "markdown",
      "source": [
        "<a name=\"preprocessing\"></a>\n",
        "\n",
        "#Preprocessing 🧹\n",
        "\n",
        "---\n",
        "\n",
        "We will implement **Encoding**, **Train-Test Split** and **Normalization** steps in this section."
      ],
      "metadata": {
        "id": "rRfCG_wnBgOs"
      }
    },
    {
      "cell_type": "markdown",
      "source": [
        "<a name=\"encoding\"></a>\n",
        "\n",
        "####Encoding Labels\n",
        "\n",
        "Firstly we should encode class labels, we create a different column for each class and members of that class will have value of 1 in that column and other records will have a value of 0, this method of encoding is called **One Hot Encoding**.\n",
        "\n",
        "We use **OneHotEncoder** class from sklearn library to do this task:\n"
      ],
      "metadata": {
        "id": "7K693ka7EJ2P"
      }
    },
    {
      "cell_type": "code",
      "source": [
        "encoded_target = pd.DataFrame(OneHotEncoder().fit_transform(target).\n",
        "                              toarray().\n",
        "                              astype(np.int32),\n",
        "                              columns=labels.values())\n",
        "\n",
        "encoded_target.head()"
      ],
      "metadata": {
        "id": "S8FgaYDDEN-G",
        "colab": {
          "base_uri": "https://localhost:8080/",
          "height": 206
        },
        "outputId": "b1a2c4bd-db74-4676-eed6-d5cc15498af1"
      },
      "execution_count": null,
      "outputs": [
        {
          "output_type": "execute_result",
          "data": {
            "text/plain": [
              "   setosa  versicolor  virginica\n",
              "0       1           0          0\n",
              "1       1           0          0\n",
              "2       1           0          0\n",
              "3       1           0          0\n",
              "4       1           0          0"
            ],
            "text/html": [
              "\n",
              "  <div id=\"df-5fc91341-0867-4b22-bc5d-48dbb5b83cd0\">\n",
              "    <div class=\"colab-df-container\">\n",
              "      <div>\n",
              "<style scoped>\n",
              "    .dataframe tbody tr th:only-of-type {\n",
              "        vertical-align: middle;\n",
              "    }\n",
              "\n",
              "    .dataframe tbody tr th {\n",
              "        vertical-align: top;\n",
              "    }\n",
              "\n",
              "    .dataframe thead th {\n",
              "        text-align: right;\n",
              "    }\n",
              "</style>\n",
              "<table border=\"1\" class=\"dataframe\">\n",
              "  <thead>\n",
              "    <tr style=\"text-align: right;\">\n",
              "      <th></th>\n",
              "      <th>setosa</th>\n",
              "      <th>versicolor</th>\n",
              "      <th>virginica</th>\n",
              "    </tr>\n",
              "  </thead>\n",
              "  <tbody>\n",
              "    <tr>\n",
              "      <th>0</th>\n",
              "      <td>1</td>\n",
              "      <td>0</td>\n",
              "      <td>0</td>\n",
              "    </tr>\n",
              "    <tr>\n",
              "      <th>1</th>\n",
              "      <td>1</td>\n",
              "      <td>0</td>\n",
              "      <td>0</td>\n",
              "    </tr>\n",
              "    <tr>\n",
              "      <th>2</th>\n",
              "      <td>1</td>\n",
              "      <td>0</td>\n",
              "      <td>0</td>\n",
              "    </tr>\n",
              "    <tr>\n",
              "      <th>3</th>\n",
              "      <td>1</td>\n",
              "      <td>0</td>\n",
              "      <td>0</td>\n",
              "    </tr>\n",
              "    <tr>\n",
              "      <th>4</th>\n",
              "      <td>1</td>\n",
              "      <td>0</td>\n",
              "      <td>0</td>\n",
              "    </tr>\n",
              "  </tbody>\n",
              "</table>\n",
              "</div>\n",
              "      <button class=\"colab-df-convert\" onclick=\"convertToInteractive('df-5fc91341-0867-4b22-bc5d-48dbb5b83cd0')\"\n",
              "              title=\"Convert this dataframe to an interactive table.\"\n",
              "              style=\"display:none;\">\n",
              "        \n",
              "  <svg xmlns=\"http://www.w3.org/2000/svg\" height=\"24px\"viewBox=\"0 0 24 24\"\n",
              "       width=\"24px\">\n",
              "    <path d=\"M0 0h24v24H0V0z\" fill=\"none\"/>\n",
              "    <path d=\"M18.56 5.44l.94 2.06.94-2.06 2.06-.94-2.06-.94-.94-2.06-.94 2.06-2.06.94zm-11 1L8.5 8.5l.94-2.06 2.06-.94-2.06-.94L8.5 2.5l-.94 2.06-2.06.94zm10 10l.94 2.06.94-2.06 2.06-.94-2.06-.94-.94-2.06-.94 2.06-2.06.94z\"/><path d=\"M17.41 7.96l-1.37-1.37c-.4-.4-.92-.59-1.43-.59-.52 0-1.04.2-1.43.59L10.3 9.45l-7.72 7.72c-.78.78-.78 2.05 0 2.83L4 21.41c.39.39.9.59 1.41.59.51 0 1.02-.2 1.41-.59l7.78-7.78 2.81-2.81c.8-.78.8-2.07 0-2.86zM5.41 20L4 18.59l7.72-7.72 1.47 1.35L5.41 20z\"/>\n",
              "  </svg>\n",
              "      </button>\n",
              "      \n",
              "  <style>\n",
              "    .colab-df-container {\n",
              "      display:flex;\n",
              "      flex-wrap:wrap;\n",
              "      gap: 12px;\n",
              "    }\n",
              "\n",
              "    .colab-df-convert {\n",
              "      background-color: #E8F0FE;\n",
              "      border: none;\n",
              "      border-radius: 50%;\n",
              "      cursor: pointer;\n",
              "      display: none;\n",
              "      fill: #1967D2;\n",
              "      height: 32px;\n",
              "      padding: 0 0 0 0;\n",
              "      width: 32px;\n",
              "    }\n",
              "\n",
              "    .colab-df-convert:hover {\n",
              "      background-color: #E2EBFA;\n",
              "      box-shadow: 0px 1px 2px rgba(60, 64, 67, 0.3), 0px 1px 3px 1px rgba(60, 64, 67, 0.15);\n",
              "      fill: #174EA6;\n",
              "    }\n",
              "\n",
              "    [theme=dark] .colab-df-convert {\n",
              "      background-color: #3B4455;\n",
              "      fill: #D2E3FC;\n",
              "    }\n",
              "\n",
              "    [theme=dark] .colab-df-convert:hover {\n",
              "      background-color: #434B5C;\n",
              "      box-shadow: 0px 1px 3px 1px rgba(0, 0, 0, 0.15);\n",
              "      filter: drop-shadow(0px 1px 2px rgba(0, 0, 0, 0.3));\n",
              "      fill: #FFFFFF;\n",
              "    }\n",
              "  </style>\n",
              "\n",
              "      <script>\n",
              "        const buttonEl =\n",
              "          document.querySelector('#df-5fc91341-0867-4b22-bc5d-48dbb5b83cd0 button.colab-df-convert');\n",
              "        buttonEl.style.display =\n",
              "          google.colab.kernel.accessAllowed ? 'block' : 'none';\n",
              "\n",
              "        async function convertToInteractive(key) {\n",
              "          const element = document.querySelector('#df-5fc91341-0867-4b22-bc5d-48dbb5b83cd0');\n",
              "          const dataTable =\n",
              "            await google.colab.kernel.invokeFunction('convertToInteractive',\n",
              "                                                     [key], {});\n",
              "          if (!dataTable) return;\n",
              "\n",
              "          const docLinkHtml = 'Like what you see? Visit the ' +\n",
              "            '<a target=\"_blank\" href=https://colab.research.google.com/notebooks/data_table.ipynb>data table notebook</a>'\n",
              "            + ' to learn more about interactive tables.';\n",
              "          element.innerHTML = '';\n",
              "          dataTable['output_type'] = 'display_data';\n",
              "          await google.colab.output.renderOutput(dataTable, element);\n",
              "          const docLink = document.createElement('div');\n",
              "          docLink.innerHTML = docLinkHtml;\n",
              "          element.appendChild(docLink);\n",
              "        }\n",
              "      </script>\n",
              "    </div>\n",
              "  </div>\n",
              "  "
            ]
          },
          "metadata": {},
          "execution_count": 7
        }
      ]
    },
    {
      "cell_type": "markdown",
      "source": [
        "<a name=\"split\"></a>\n",
        "\n",
        "####Data Split\n",
        "\n",
        "We take 20% of the all cases for test set, also notice that cases of different classes are presented in the order of their class number, so we should set shuffle argument to True so train_test_split method shuffles the cases before splitting.\n",
        "\n",
        "We use **train_test_split** method of the sklearn library:\n"
      ],
      "metadata": {
        "id": "CXQsulR4ByQG"
      }
    },
    {
      "cell_type": "code",
      "source": [
        "X_train, X_test, y_train, y_test = train_test_split(data, encoded_target,\n",
        "                                                    test_size=0.2, \n",
        "                                                    shuffle=True,\n",
        "                                                    random_state=42)"
      ],
      "metadata": {
        "id": "OGyV70zhESq_"
      },
      "execution_count": null,
      "outputs": []
    },
    {
      "cell_type": "markdown",
      "source": [
        "<a name=\"normalization\"></a>\n",
        "\n",
        "####Normalization\n",
        "\n",
        "We splitted the train and test set before this step because test set properties should not affect the training set normalization, so here we will define an instance of **Normalizer** class from sklearn library and fit it on the training set, then we will use it to normalize bot test and training set. \n"
      ],
      "metadata": {
        "id": "o8RlERlVBoL5"
      }
    },
    {
      "cell_type": "code",
      "execution_count": null,
      "metadata": {
        "id": "NnMaofjhN3Hi",
        "colab": {
          "base_uri": "https://localhost:8080/",
          "height": 206
        },
        "outputId": "efd286c8-2c56-4e2f-86c5-fe9c774b0a1a"
      },
      "outputs": [
        {
          "output_type": "execute_result",
          "data": {
            "text/plain": [
              "   sepal length (cm)  sepal width (cm)  petal length (cm)  petal width (cm)\n",
              "0           0.775771          0.607125           0.168646          0.033729\n",
              "1           0.773811          0.597328           0.203635          0.054303\n",
              "2           0.769454          0.356016           0.505313          0.160782\n",
              "3           0.786991          0.557452           0.262330          0.032791\n",
              "4           0.786090          0.571702           0.232254          0.035731"
            ],
            "text/html": [
              "\n",
              "  <div id=\"df-0842d582-415e-44de-8269-22f64639dd8f\">\n",
              "    <div class=\"colab-df-container\">\n",
              "      <div>\n",
              "<style scoped>\n",
              "    .dataframe tbody tr th:only-of-type {\n",
              "        vertical-align: middle;\n",
              "    }\n",
              "\n",
              "    .dataframe tbody tr th {\n",
              "        vertical-align: top;\n",
              "    }\n",
              "\n",
              "    .dataframe thead th {\n",
              "        text-align: right;\n",
              "    }\n",
              "</style>\n",
              "<table border=\"1\" class=\"dataframe\">\n",
              "  <thead>\n",
              "    <tr style=\"text-align: right;\">\n",
              "      <th></th>\n",
              "      <th>sepal length (cm)</th>\n",
              "      <th>sepal width (cm)</th>\n",
              "      <th>petal length (cm)</th>\n",
              "      <th>petal width (cm)</th>\n",
              "    </tr>\n",
              "  </thead>\n",
              "  <tbody>\n",
              "    <tr>\n",
              "      <th>0</th>\n",
              "      <td>0.775771</td>\n",
              "      <td>0.607125</td>\n",
              "      <td>0.168646</td>\n",
              "      <td>0.033729</td>\n",
              "    </tr>\n",
              "    <tr>\n",
              "      <th>1</th>\n",
              "      <td>0.773811</td>\n",
              "      <td>0.597328</td>\n",
              "      <td>0.203635</td>\n",
              "      <td>0.054303</td>\n",
              "    </tr>\n",
              "    <tr>\n",
              "      <th>2</th>\n",
              "      <td>0.769454</td>\n",
              "      <td>0.356016</td>\n",
              "      <td>0.505313</td>\n",
              "      <td>0.160782</td>\n",
              "    </tr>\n",
              "    <tr>\n",
              "      <th>3</th>\n",
              "      <td>0.786991</td>\n",
              "      <td>0.557452</td>\n",
              "      <td>0.262330</td>\n",
              "      <td>0.032791</td>\n",
              "    </tr>\n",
              "    <tr>\n",
              "      <th>4</th>\n",
              "      <td>0.786090</td>\n",
              "      <td>0.571702</td>\n",
              "      <td>0.232254</td>\n",
              "      <td>0.035731</td>\n",
              "    </tr>\n",
              "  </tbody>\n",
              "</table>\n",
              "</div>\n",
              "      <button class=\"colab-df-convert\" onclick=\"convertToInteractive('df-0842d582-415e-44de-8269-22f64639dd8f')\"\n",
              "              title=\"Convert this dataframe to an interactive table.\"\n",
              "              style=\"display:none;\">\n",
              "        \n",
              "  <svg xmlns=\"http://www.w3.org/2000/svg\" height=\"24px\"viewBox=\"0 0 24 24\"\n",
              "       width=\"24px\">\n",
              "    <path d=\"M0 0h24v24H0V0z\" fill=\"none\"/>\n",
              "    <path d=\"M18.56 5.44l.94 2.06.94-2.06 2.06-.94-2.06-.94-.94-2.06-.94 2.06-2.06.94zm-11 1L8.5 8.5l.94-2.06 2.06-.94-2.06-.94L8.5 2.5l-.94 2.06-2.06.94zm10 10l.94 2.06.94-2.06 2.06-.94-2.06-.94-.94-2.06-.94 2.06-2.06.94z\"/><path d=\"M17.41 7.96l-1.37-1.37c-.4-.4-.92-.59-1.43-.59-.52 0-1.04.2-1.43.59L10.3 9.45l-7.72 7.72c-.78.78-.78 2.05 0 2.83L4 21.41c.39.39.9.59 1.41.59.51 0 1.02-.2 1.41-.59l7.78-7.78 2.81-2.81c.8-.78.8-2.07 0-2.86zM5.41 20L4 18.59l7.72-7.72 1.47 1.35L5.41 20z\"/>\n",
              "  </svg>\n",
              "      </button>\n",
              "      \n",
              "  <style>\n",
              "    .colab-df-container {\n",
              "      display:flex;\n",
              "      flex-wrap:wrap;\n",
              "      gap: 12px;\n",
              "    }\n",
              "\n",
              "    .colab-df-convert {\n",
              "      background-color: #E8F0FE;\n",
              "      border: none;\n",
              "      border-radius: 50%;\n",
              "      cursor: pointer;\n",
              "      display: none;\n",
              "      fill: #1967D2;\n",
              "      height: 32px;\n",
              "      padding: 0 0 0 0;\n",
              "      width: 32px;\n",
              "    }\n",
              "\n",
              "    .colab-df-convert:hover {\n",
              "      background-color: #E2EBFA;\n",
              "      box-shadow: 0px 1px 2px rgba(60, 64, 67, 0.3), 0px 1px 3px 1px rgba(60, 64, 67, 0.15);\n",
              "      fill: #174EA6;\n",
              "    }\n",
              "\n",
              "    [theme=dark] .colab-df-convert {\n",
              "      background-color: #3B4455;\n",
              "      fill: #D2E3FC;\n",
              "    }\n",
              "\n",
              "    [theme=dark] .colab-df-convert:hover {\n",
              "      background-color: #434B5C;\n",
              "      box-shadow: 0px 1px 3px 1px rgba(0, 0, 0, 0.15);\n",
              "      filter: drop-shadow(0px 1px 2px rgba(0, 0, 0, 0.3));\n",
              "      fill: #FFFFFF;\n",
              "    }\n",
              "  </style>\n",
              "\n",
              "      <script>\n",
              "        const buttonEl =\n",
              "          document.querySelector('#df-0842d582-415e-44de-8269-22f64639dd8f button.colab-df-convert');\n",
              "        buttonEl.style.display =\n",
              "          google.colab.kernel.accessAllowed ? 'block' : 'none';\n",
              "\n",
              "        async function convertToInteractive(key) {\n",
              "          const element = document.querySelector('#df-0842d582-415e-44de-8269-22f64639dd8f');\n",
              "          const dataTable =\n",
              "            await google.colab.kernel.invokeFunction('convertToInteractive',\n",
              "                                                     [key], {});\n",
              "          if (!dataTable) return;\n",
              "\n",
              "          const docLinkHtml = 'Like what you see? Visit the ' +\n",
              "            '<a target=\"_blank\" href=https://colab.research.google.com/notebooks/data_table.ipynb>data table notebook</a>'\n",
              "            + ' to learn more about interactive tables.';\n",
              "          element.innerHTML = '';\n",
              "          dataTable['output_type'] = 'display_data';\n",
              "          await google.colab.output.renderOutput(dataTable, element);\n",
              "          const docLink = document.createElement('div');\n",
              "          docLink.innerHTML = docLinkHtml;\n",
              "          element.appendChild(docLink);\n",
              "        }\n",
              "      </script>\n",
              "    </div>\n",
              "  </div>\n",
              "  "
            ]
          },
          "metadata": {},
          "execution_count": 9
        }
      ],
      "source": [
        "# Defining instance of Normalizer and fitting it on training features\n",
        "transformer = Normalizer().fit(X_train)\n",
        "\n",
        "# Normalizing train and test features using transformer\n",
        "X_train = pd.DataFrame(transformer.transform(X_train), columns=X_train.columns)\n",
        "X_test = pd.DataFrame(transformer.transform(X_test), columns=X_test.columns)\n",
        "\n",
        "# Lets see the new values...\n",
        "X_train.head()"
      ]
    },
    {
      "cell_type": "markdown",
      "source": [
        "Awesome! you can see that all numbers are now in range of [0, 1]"
      ],
      "metadata": {
        "id": "xXb3IEH8A0al"
      }
    },
    {
      "cell_type": "markdown",
      "source": [
        "<a name=\"comparator\"></a>\n",
        "\n",
        "#Preparing Comparator 🔍\n",
        "\n",
        "---\n",
        "\n",
        "We are gonna define a method to build a constant network structure each time that we call it, we will use this method to build and then train our model each time with a different optimizer. So we need to define 2 functions, one for building the model and one for training our model with a given optimizer, second one uses the first one to build the model."
      ],
      "metadata": {
        "id": "3Gacyc8SEYXw"
      }
    },
    {
      "cell_type": "markdown",
      "source": [
        "<a name=\"model\"></a>\n",
        "\n",
        "####Model 🤖\n",
        "\n",
        "We have a small training set and limited number of features so we should not build a complex deep network, otherwise our model will easily overfit!\n",
        "\n",
        "Our model contains 2 hidden layers of sizes 16 and 8, notice that it is recommended to use powers of 2 as total number of neurons in each layer because of compability with cpu cores and boosting parallel computation. Each layer uses ReLU as its activation function except the output layer which uses softmax which is necessary for multi-class classification tasks. "
      ],
      "metadata": {
        "id": "u6MGEcZiEcvi"
      }
    },
    {
      "cell_type": "code",
      "source": [
        "def get_model():\n",
        "    '''\n",
        "    Builds and returns model of the network\n",
        "    '''\n",
        "    model = Sequential([\n",
        "        Dense(16, input_shape=(4,), activation='relu'),\n",
        "        Dense(8, activation='relu'),\n",
        "        Dense(3, activation='softmax', name='output'),\n",
        "    ])\n",
        "\n",
        "    return model"
      ],
      "metadata": {
        "id": "5dyQGBZYEe6h"
      },
      "execution_count": null,
      "outputs": []
    },
    {
      "cell_type": "markdown",
      "source": [
        "<a name=\"examination\"></a>\n",
        "\n",
        "####Examination Method\n",
        "\n",
        "Next method must give an optimizer and batch size to train the specified model. Giving batch size is necessary because Stochastic, Batch and Full Gradient Descent are just distinguishable by their batch sizes. Each batch is a set of records that we feed to the network in each iteration of the training process. Also epochs is the amount of training iterations, each epoch is one training iteration.\n",
        "\n",
        "Notice that we just monitor accuracy of the model because there are not skewed classes so it is not necessary to use f1 score.\n",
        "\n",
        "Also we set 2 callbacks on our model during the training process, these 2 callbacks are:\n",
        "\n",
        "- EarlyStoping: </br>\n",
        "    This callback stops the training process when a target parameter doesn't change enough. We will set it to check validation loss so it terminates training process if our model couldn't decrease validation loss anymore. This will help us to stop training before overfit is increased too much.\n",
        "\n",
        "- ReduceLROnPlateau: ,/br>\n",
        "    This callback decreases the learning rate if a target parameter didn't decrease anymore. It happens a lot that model cannot converge loss function to a smaller value because learning rate is to high and on each iteration value of loss function jumps over the minimal value, by decreasing the learning rate it can converge to even smaller values."
      ],
      "metadata": {
        "id": "qFrl7shREfFC"
      }
    },
    {
      "cell_type": "code",
      "source": [
        "def examine_optimizer(optimizer, opt_name, batch_size, data_train, data_test, report):\n",
        "    '''\n",
        "    args\n",
        "    optimizer: an object of the target optimizer to be examined\n",
        "    opt_name: name of the optimizer to be set in the report dictionary\n",
        "    batch_size: amount of cases to feed the network in each epoch\n",
        "    data_train: tuple of (X_train, y_train) to train the model\n",
        "    data_test: tuple of (X_test, y_test) to test model's accuracy\n",
        "    report: a dictionary that we will insert optimization history into it\n",
        "    \n",
        "    output\n",
        "    returns report object but history of current training is inserted to it\n",
        "    '''\n",
        "\n",
        "    model = get_model()\n",
        "\n",
        "    early_stopping = EarlyStopping(monitor='val_loss',  \n",
        "                                    min_delta=0.0001,\n",
        "                                    patience=10,\n",
        "                                    mode='auto',\n",
        "                                    verbose=2)\n",
        "    reduce_lr = ReduceLROnPlateau(monitor='val_loss',\n",
        "                                  min_delta=0.001,\n",
        "                                  factor=0.2, \n",
        "                                  patience=5,\n",
        "                                  min_lr=1e-5)\n",
        "\n",
        "\n",
        "    model.compile(optimizer, loss='categorical_crossentropy', metrics=['accuracy'])\n",
        "\n",
        "    history = model.fit(data_train[0], data_train[1],\n",
        "                        validation_data = data_test,\n",
        "                        verbose = 0, #silent mode\n",
        "                        batch_size = batch_size,\n",
        "                        shuffle = False,\n",
        "                        callbacks = [early_stopping, reduce_lr],\n",
        "                        epochs = 500)\n",
        "\n",
        "    eval = model.evaluate(data_test[0], data_test[1])\n",
        "\n",
        "    plt.figure(figsize=(12, 5))\n",
        "    plt.subplot(1, 2, 1)\n",
        "    plt.plot(history.history['accuracy'])\n",
        "    plt.plot(history.history['val_accuracy'])\n",
        "    plt.title('model accuracy')\n",
        "    plt.ylabel('accuracy')\n",
        "    plt.xlabel('epoch')\n",
        "    plt.legend(['train', 'test'], loc='upper left')\n",
        "    # plt.show()\n",
        "    \n",
        "    plt.subplot(1, 2, 2)\n",
        "    plt.plot(history.history['loss'])\n",
        "    plt.plot(history.history['val_loss'])\n",
        "    plt.title('model loss')\n",
        "    plt.ylabel('loss')\n",
        "    plt.xlabel('epoch')\n",
        "    plt.legend(['train', 'test'], loc='upper left')\n",
        "\n",
        "    plt.tight_layout()\n",
        "    plt.show()\n",
        "\n",
        "    print(f'Validation Loss: {eval[0]}')\n",
        "    print(f'Validation Accuracy: {eval[1]}')\n",
        "\n",
        "    report[opt_name] = (history, eval)\n",
        "\n",
        "    return report"
      ],
      "metadata": {
        "id": "SlF2w2KtEs4o"
      },
      "execution_count": null,
      "outputs": []
    },
    {
      "cell_type": "markdown",
      "source": [
        "<a name=\"optimizers\"></a>\n",
        "\n",
        "#Optimizers 🩹\n",
        "\n",
        "---\n",
        "\n",
        "we will compare performance of 5 neural network optimizers on the Iris dataset. These optimizers are:\n",
        "\n",
        " - Gradient Descent\n",
        " - Stochastic Gradient Descent\n",
        " - Batch Gradient Descent\n",
        " - RMSprop\n",
        " - Adam\n",
        "\n",
        " but before the beginning, we should define a dictionary to keep score and history of our models, we will use this dictionary for final conclusion:"
      ],
      "metadata": {
        "id": "l93yNlTDExwB"
      }
    },
    {
      "cell_type": "code",
      "source": [
        "report = {}"
      ],
      "metadata": {
        "id": "eqCUm8YTFiTb"
      },
      "execution_count": null,
      "outputs": []
    },
    {
      "cell_type": "markdown",
      "source": [
        "<a name=\"gd\"></a>\n",
        "\n",
        "####Gradient Descent\n",
        "\n",
        "Gradient Descent also known as Vanilla Gradient Descent is the most basic optimizer, it finds the direction that loss function decreases the most and updates the network weights to move to that direction. This method has some technical disadvantages, most important is that every vector of direction in each step of optimization perpendicular to direction vector of the previous iteration, so It moves using perpendicular vectors which slows down its speed. Also it can fall into a local minima instead of global minima and it will be traped into that local minima. We will use momentum which is inspired from physics, to solve both of these problems."
      ],
      "metadata": {
        "id": "h8r2KiiuyRi1"
      }
    },
    {
      "cell_type": "code",
      "source": [
        "gradient_descent = SGD(learning_rate=0.01)\n",
        "\n",
        "report = examine_optimizer(optimizer = gradient_descent,\n",
        "                  opt_name = 'Full Gradient Descent',\n",
        "                  batch_size = 120, # full training set\n",
        "                  data_train = (X_train, y_train),\n",
        "                  data_test = (X_test, y_test),\n",
        "                  report = report\n",
        "                  )"
      ],
      "metadata": {
        "id": "hyP81NE2yuA4",
        "colab": {
          "base_uri": "https://localhost:8080/",
          "height": 443
        },
        "outputId": "4d91a798-3e54-43ab-fdcb-a5b61629fb30"
      },
      "execution_count": null,
      "outputs": [
        {
          "output_type": "stream",
          "name": "stdout",
          "text": [
            "Epoch 84: early stopping\n",
            "1/1 [==============================] - 0s 19ms/step - loss: 1.0746 - accuracy: 0.6333\n"
          ]
        },
        {
          "output_type": "display_data",
          "data": {
            "text/plain": [
              "<Figure size 864x360 with 2 Axes>"
            ],
            "image/png": "[encoded data removed]"
          },
          "metadata": {
            "needs_background": "light"
          }
        },
        {
          "output_type": "stream",
          "name": "stdout",
          "text": [
            "Validation Loss: 1.0745677947998047\n",
            "Validation Accuracy: 0.6333333253860474\n"
          ]
        }
      ]
    },
    {
      "cell_type": "markdown",
      "source": [
        "Notice that EarlyStopping stopped the training process after 84 epochs because optimizer couldn't enhance the loss function anymore.\n",
        "\n",
        " Also you can see that accuracy increases with a stair form, it is because of ReduceLROnPlateau callback, it observes the loss value during the training process and if loss value doesn't decrease enough, it changes the learning rate to help the optimizer to converge loss function to a small value. We will see chart of learning rate for all optimizers in the final statistics section.\n",
        "\n",
        " You can see that Full Gradient Descent has overfitted our model a lot! This is because of feeding a lot of repeatitive samples to our network, in the next part we will see that by decreasing batch size in Stochastic and Batch Gradient Descent, this overfitting happens later."
      ],
      "metadata": {
        "id": "CAI-G6EexPW3"
      }
    },
    {
      "cell_type": "markdown",
      "source": [
        "<a name=\"sgd\"></a>\n",
        "\n",
        "####Stochastic Gradient Descent\n",
        "\n",
        "Stochastic Gradient Descent also uses Gradient Descent as optimizer but it just uses 1 sample in each epoch. This way it will be faster and it feeds less repeatitve samples to the network."
      ],
      "metadata": {
        "id": "NQV-pM1kyY7y"
      }
    },
    {
      "cell_type": "code",
      "source": [
        "stochastic_gradient_descent = SGD(learning_rate=0.01)\n",
        "\n",
        "report = examine_optimizer(optimizer = stochastic_gradient_descent,\n",
        "                  opt_name = 'Stochastic Gradien Descent',\n",
        "                  batch_size = 1, # one test case in each iteration\n",
        "                  data_train = (X_train, y_train),\n",
        "                  data_test = (X_test, y_test),\n",
        "                  report = report\n",
        "                  )"
      ],
      "metadata": {
        "id": "U3HnQplUyYCb",
        "colab": {
          "base_uri": "https://localhost:8080/",
          "height": 424
        },
        "outputId": "bd5a5652-47d8-4dbf-da60-d3faa9e37547"
      },
      "execution_count": null,
      "outputs": [
        {
          "output_type": "stream",
          "name": "stdout",
          "text": [
            "1/1 [==============================] - 0s 36ms/step - loss: 0.1848 - accuracy: 0.9667\n"
          ]
        },
        {
          "output_type": "display_data",
          "data": {
            "text/plain": [
              "<Figure size 864x360 with 2 Axes>"
            ],
            "image/png": "[encoded data removed]"
          },
          "metadata": {
            "needs_background": "light"
          }
        },
        {
          "output_type": "stream",
          "name": "stdout",
          "text": [
            "Validation Loss: 0.18480318784713745\n",
            "Validation Accuracy: 0.9666666388511658\n"
          ]
        }
      ]
    },
    {
      "cell_type": "markdown",
      "source": [
        "One important property of Stochastic Gradient Descent is that it converges slower, because it uses just 1 sample per epoch so it's much faster than other optimizers but also it has many unnecessary jumps toward other directions than minima. Also reducing learning rate is a necessary act for this optimizer because when it gets closer to the minima, it makes many big and chaotic jumps around the minima so it cannot control itself to go closer to the minima!\n",
        "\n",
        "It overfitted a bit but EarlyStopping stopped it to avoid too much overfitting!"
      ],
      "metadata": {
        "id": "P8GXOx0j4ZKH"
      }
    },
    {
      "cell_type": "markdown",
      "source": [
        "<a name=\"bgd\"></a>\n",
        "\n",
        "####Batch Gradient Descent\n",
        "\n",
        "Batch gradient is exactly like Stochastic and Full Gradient Descent but it uses batch size between 1 and size of training set, this way it will be faster than Full Gradient Descent and converges faster than Stochastic Gradient Descent."
      ],
      "metadata": {
        "id": "Jk8k4hn6yxC1"
      }
    },
    {
      "cell_type": "code",
      "source": [
        "batch_gradient_descent = SGD(learning_rate=0.01)\n",
        "\n",
        "report = examine_optimizer(optimizer = batch_gradient_descent,\n",
        "                  opt_name = 'Batch Gradient Descent',\n",
        "                  batch_size = 16, # power of 2\n",
        "                  data_train = (X_train, y_train),\n",
        "                  data_test = (X_test, y_test),\n",
        "                  report = report\n",
        "                  )"
      ],
      "metadata": {
        "id": "SqkZ-8Qly0QM",
        "colab": {
          "base_uri": "https://localhost:8080/",
          "height": 443
        },
        "outputId": "76c53a37-66e4-406f-bca4-2dc24d3cf7fd"
      },
      "execution_count": null,
      "outputs": [
        {
          "output_type": "stream",
          "name": "stdout",
          "text": [
            "Epoch 123: early stopping\n",
            "1/1 [==============================] - 0s 146ms/step - loss: 0.1160 - accuracy: 0.9333\n"
          ]
        },
        {
          "output_type": "display_data",
          "data": {
            "text/plain": [
              "<Figure size 864x360 with 2 Axes>"
            ],
            "image/png": "[encoded data removed]"
          },
          "metadata": {
            "needs_background": "light"
          }
        },
        {
          "output_type": "stream",
          "name": "stdout",
          "text": [
            "Validation Loss: 0.11604367196559906\n",
            "Validation Accuracy: 0.9333333373069763\n"
          ]
        }
      ]
    },
    {
      "cell_type": "markdown",
      "source": [
        "You can see it takes about 122 iterations to stops training while it reached the accuracy of Stochastic Gradient Descent which means it converges 5 times faster, but in each iteration it takes more time than each iteration of Stochastic Gradient Descent.\n",
        "\n",
        "Again EarlyStopping stopped the training process to avoid too much overfitting!"
      ],
      "metadata": {
        "id": "bju-yfMeCfCY"
      }
    },
    {
      "cell_type": "markdown",
      "source": [
        "<a name=\"rmsprop\"></a>\n",
        "\n",
        "####RMSprop\n"
      ],
      "metadata": {
        "id": "MKIHShQby3T2"
      }
    },
    {
      "cell_type": "markdown",
      "source": [
        "Almost all iterative optimizers implement an extension of Gradient Descent and RMSprop is not an exception. It uses decaying average of partial gradients in the adaptation of the step size for each parameter meaning that it uses second momnetum to enhance optimization. Momentum is an physics concept which indicated which side is already a particle moving toward it. First and second momentum are like speed and acceleration for moving particles. So about all extensions of Gradient Descent use first and second momentum in different ways and RMSprop just uses the second momentum in a decaying form which means that it decreases momentum as it gets closer to the minima which makes sense because we decrease our speed when we arrive to our destination!"
      ],
      "metadata": {
        "id": "ZJIJyWuOC-Jo"
      }
    },
    {
      "cell_type": "code",
      "source": [
        "rmsprop = RMSprop(learning_rate=0.01)\n",
        "\n",
        "report = examine_optimizer(optimizer = rmsprop,\n",
        "                  opt_name = 'RMSprop',\n",
        "                  batch_size = 8, # power of 2\n",
        "                  data_train = (X_train, y_train),\n",
        "                  data_test = (X_test, y_test),\n",
        "                  report = report\n",
        "                  )"
      ],
      "metadata": {
        "id": "IEIuVAtDy3l0",
        "colab": {
          "base_uri": "https://localhost:8080/",
          "height": 443
        },
        "outputId": "866ef2e8-be4e-4a8a-c27c-58d1f632a03a"
      },
      "execution_count": null,
      "outputs": [
        {
          "output_type": "stream",
          "name": "stdout",
          "text": [
            "Epoch 61: early stopping\n",
            "1/1 [==============================] - 0s 22ms/step - loss: 0.1110 - accuracy: 0.9333\n"
          ]
        },
        {
          "output_type": "display_data",
          "data": {
            "text/plain": [
              "<Figure size 864x360 with 2 Axes>"
            ],
            "image/png": "[encoded data removed]"
          },
          "metadata": {
            "needs_background": "light"
          }
        },
        {
          "output_type": "stream",
          "name": "stdout",
          "text": [
            "Validation Loss: 0.111019566655159\n",
            "Validation Accuracy: 0.9333333373069763\n"
          ]
        }
      ]
    },
    {
      "cell_type": "markdown",
      "source": [
        "It converged in 60 epochs and then it started to overfit as training loss started to decrease but validation loss didn't change so EralyStopping stopped it to avoid too much overfitting."
      ],
      "metadata": {
        "id": "2gEJBSfYHhiH"
      }
    },
    {
      "cell_type": "markdown",
      "source": [
        "<a name=\"adam\"></a>\n",
        "\n",
        "####Adam\n"
      ],
      "metadata": {
        "id": "5RvCUztey9dI"
      }
    },
    {
      "cell_type": "markdown",
      "source": [
        "As I mentioned for RMSprop, almost all extensions of Gradient Descent use momentum in different ways. Adam uses both first and second momentum which makes to converge much faster and also like RMSprop it decays momentum during the training process to avoid jumping over the minima. Although it needs more calculation but it significantly decreases total number of iterations and that is why it's the most popular optimizer for optimizing neural networks!"
      ],
      "metadata": {
        "id": "fIoY2F9pJC5G"
      }
    },
    {
      "cell_type": "code",
      "source": [
        "adam = Adam(learning_rate=0.01)\n",
        "\n",
        "report = examine_optimizer(optimizer = adam,\n",
        "                  opt_name = 'Adam',\n",
        "                  batch_size = 8, # power of 2\n",
        "                  data_train = (X_train, y_train),\n",
        "                  data_test = (X_test, y_test),\n",
        "                  report = report\n",
        "                  )"
      ],
      "metadata": {
        "id": "QTu5Dmz2y91H",
        "colab": {
          "base_uri": "https://localhost:8080/",
          "height": 443
        },
        "outputId": "f3fa84c5-baeb-4f83-ca00-9b828edcc316"
      },
      "execution_count": null,
      "outputs": [
        {
          "output_type": "stream",
          "name": "stdout",
          "text": [
            "Epoch 36: early stopping\n",
            "1/1 [==============================] - 0s 20ms/step - loss: 0.1267 - accuracy: 0.9333\n"
          ]
        },
        {
          "output_type": "display_data",
          "data": {
            "text/plain": [
              "<Figure size 864x360 with 2 Axes>"
            ],
            "image/png": "[encoded data removed]"
          },
          "metadata": {
            "needs_background": "light"
          }
        },
        {
          "output_type": "stream",
          "name": "stdout",
          "text": [
            "Validation Loss: 0.1267116516828537\n",
            "Validation Accuracy: 0.9333333373069763\n"
          ]
        }
      ]
    },
    {
      "cell_type": "markdown",
      "source": [
        "You can see that it reached the minima in 35 epochs which is about 2x faster than RMSprop and even much faster that Vanilla Gradient Descent!\n",
        "\n",
        "Although EarlyStopping stopped it after 35 epochs, but it had reached the minima it 25 epochs which is amazing!\n",
        "\n",
        "Again it overfitted a bit but EarlyStopping avoided more overfitting."
      ],
      "metadata": {
        "id": "X_K6R3nkKLO1"
      }
    },
    {
      "cell_type": "markdown",
      "source": [
        "<a name=\"together\"></a>\n",
        "\n",
        "#Final Statistics 📊\n",
        "\n",
        "---\n",
        "\n",
        "No we will show scores of all models in a bar plot to visualize their comparision."
      ],
      "metadata": {
        "id": "F-eN22O7zI1b"
      }
    },
    {
      "cell_type": "code",
      "source": [
        "# Making a figure of size 12 x 5\n",
        "plt.figure(figsize=(12, 5))\n",
        "\n",
        "# Plotting Validation Accuracies in the left subplot\n",
        "plt.subplot(1, 2, 1)\n",
        "for name, (history, eval) in report.items():\n",
        "    plt.plot(history.history['val_accuracy'])\n",
        "\n",
        "plt.title('Validation Accuracies')\n",
        "plt.ylabel('Accuracy')\n",
        "plt.xlabel('Epoch')\n",
        "plt.legend(['SGD', 'Adam', 'RMSprop', 'Adadelta', 'Adagrad'])\n",
        "plt.legend(list(report.keys()))\n",
        "\n",
        "# Plotting Validation Losses in the right subplot\n",
        "plt.subplot(1, 2, 2)\n",
        "for opt_name, (history, eval) in report.items():\n",
        "    plt.plot(history.history['val_loss'])\n",
        "\n",
        "plt.title('Validation Losses')\n",
        "plt.ylabel('Loss')\n",
        "plt.xlabel('Epoch')\n",
        "plt.legend(list(report.keys()))\n",
        "plt.show()"
      ],
      "metadata": {
        "id": "-T2mzCJuzHfg",
        "colab": {
          "base_uri": "https://localhost:8080/",
          "height": 350
        },
        "outputId": "78702ae2-bbe2-4e9a-e0c5-15d5355a6e3e"
      },
      "execution_count": null,
      "outputs": [
        {
          "output_type": "display_data",
          "data": {
            "text/plain": [
              "<Figure size 864x360 with 2 Axes>"
            ],
            "image/png": "[encoded data removed]"
          },
          "metadata": {
            "needs_background": "light"
          }
        }
      ]
    },
    {
      "cell_type": "markdown",
      "source": [
        "It is just incredible how fast RMSprop and Adam are! Ther outranked other optimizers easily and that is the magic of momentum!\n",
        "\n",
        " Also previously I mentioned that stairing form of accuracy charts is because of ReduceLROnPlateau callback which decreases learning rate when optimizer cannot converge loss value to a smaller value, lets see how learning rates has changed during the training process:"
      ],
      "metadata": {
        "id": "kXbxdjv4K5z0"
      }
    },
    {
      "cell_type": "code",
      "source": [
        "for opt_name, (history, eval) in report.items():\n",
        "    plt.plot(history.history['lr'])\n",
        "\n",
        "plt.title('Learning rates')\n",
        "plt.ylabel('Learning Rate')\n",
        "plt.xlabel('Epoch')\n",
        "plt.legend(list(report.keys()))\n",
        "plt.show()"
      ],
      "metadata": {
        "colab": {
          "base_uri": "https://localhost:8080/",
          "height": 295
        },
        "id": "WH-61QSdudR9",
        "outputId": "e1aa5bd2-bbb1-4086-d646-52645234bb42"
      },
      "execution_count": null,
      "outputs": [
        {
          "output_type": "display_data",
          "data": {
            "text/plain": [
              "<Figure size 432x288 with 1 Axes>"
            ],
            "image/png": "[encoded data removed]"
          },
          "metadata": {
            "needs_background": "light"
          }
        }
      ]
    },
    {
      "cell_type": "markdown",
      "source": [
        "Now you can see that stairing form of accuracy charts are because of these learning rates, when value function doesn't change, ReduceLROnPlateau callback decays learning rate which forms an stairing pattern in both learning rate and accuract chart. \n",
        "\n",
        "**Also notice that accuracy is an integer parameter so anyway it has this starining form but decaying learning rate exaggerates this pattern.**"
      ],
      "metadata": {
        "id": "taCB8gK9PLEv"
      }
    },
    {
      "cell_type": "code",
      "source": [
        "comparision_data = []\n",
        "\n",
        "# Making list of parameters with their values\n",
        "for opt_name, (history, eval) in report.items():\n",
        "    comparision_data.extend(\n",
        "        [\n",
        "            [\n",
        "            opt_name,\n",
        "            'Validation Loss x100',\n",
        "            eval[0] * 100\n",
        "            ],\n",
        "            [\n",
        "            opt_name,\n",
        "            'Validation Accuracy x100',\n",
        "            eval[1] * 100\n",
        "            ],\n",
        "            [\n",
        "            opt_name,\n",
        "            'Total Iterations /5',\n",
        "            len(history.history['loss']) / 5\n",
        "            ]\n",
        "        ]\n",
        "    )\n",
        "# Converting parameters list to pandas DataFrame\n",
        "comparision_data = pd.DataFrame(comparision_data,\n",
        "                                columns=['Optimizer', 'Parameter', 'Value'])\n",
        "\n",
        "# Plotting the parameters\n",
        "plt.figure(figsize=(6, 8))\n",
        "sns.barplot(data=comparision_data, x='Optimizer', y='Value', hue='Parameter')\n",
        "plt.ylim((0, 150))\n",
        "plt.xticks(rotation=70)\n",
        "plt.tight_layout()"
      ],
      "metadata": {
        "colab": {
          "base_uri": "https://localhost:8080/",
          "height": 585
        },
        "id": "9V6Klavru6kz",
        "outputId": "fcb891ee-c242-42ef-8471-2cf16b3b9615"
      },
      "execution_count": null,
      "outputs": [
        {
          "output_type": "display_data",
          "data": {
            "text/plain": [
              "<Figure size 432x576 with 1 Axes>"
            ],
            "image/png": "[encoded data removed]"
          },
          "metadata": {
            "needs_background": "light"
          }
        }
      ]
    },
    {
      "cell_type": "markdown",
      "source": [
        "In the above chart I have multiplied accuracy and loss to 100 because their were in range of [0, 1] and divided iterations(epochs) by 5 because they were in range of [0, 500] so changed all parameter to the same scale of [0, 100].\n",
        "\n",
        "So all in all, using sophisticated callbacks we could handle the optimizers to reach a high accuracy and low loss, except for Full Gradient Descent because it fed too much repeatitive samples to the network. So the most significant paramter it total number of iterations for each optimizer which shows that RMSprop and Adam did the same job as Stochastic and Batch Gradient Descent but using much less iterations! \n",
        "\n",
        "Thanks for you attention! This notebook is available in the link below😀\n",
        "https://colab.research.google.com/drive/1ChupoRR9UAK9WooIjauB5OLum5fq1OIQ?usp=sharing"
      ],
      "metadata": {
        "id": "ymM3bE0fVQS9"
      }
    }
  ]
}